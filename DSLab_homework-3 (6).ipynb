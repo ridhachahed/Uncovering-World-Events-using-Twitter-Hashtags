{
 "cells": [
  {
   "cell_type": "markdown",
   "metadata": {},
   "source": [
    "# Homework 3 - Uncovering World Events using Twitter Hashtags\n",
    "\n",
    "## ... and learning about Spark `DataFrames` along the way\n",
    "\n",
    "In this notebook, we will use temporal information about Twitter hashtags to discover trending topics and potentially uncover world events as they occurred. \n",
    "\n",
    "__Hand-in:__\n",
    "\n",
    "- __Due: 28.04.2020 23:59:59 CET__\n",
    "- `git push` your final verion to your group's Renku repository before the due\n",
    "- check if `Dockerfile`, `environment.yml` and `requirements.txt` are properly written\n",
    "- add necessary comments and discussion to make your codes readable"
   ]
  },
  {
   "cell_type": "markdown",
   "metadata": {},
   "source": [
    "### Hashtags\n",
    "\n",
    "The idea here is that when an event is happening and people are having a conversation about it on Twitter, a set of uniform hashtags that represent the event spontaneously evolves. Twitter users then use those hashtags to communicate with one another. Some hashtags, like `#RT` for \"retweet\" or just `#retweet` are used frequently and don't tell us much about what is going on. But a sudden appearance of a hashtag like `#oscars` probably indicates that the oscars are underway. For a particularly cool example of this type of analysis, check out [this blog post about earthquake detection using Twitter data](https://blog.twitter.com/official/en_us/a/2015/usgs-twitter-data-earthquake-detection.html) (although they search the text and not necessarily hashtags)."
   ]
  },
  {
   "cell_type": "code",
   "execution_count": 1,
   "metadata": {
    "scrolled": true
   },
   "outputs": [],
   "source": [
    "%%local\n",
    "%matplotlib inline\n",
    "import matplotlib.pylab as plt\n",
    "plt.rcParams['figure.figsize'] = (10,6)\n",
    "plt.rcParams['font.size'] = 18\n",
    "plt.style.use('fivethirtyeight')"
   ]
  },
  {
   "cell_type": "markdown",
   "metadata": {},
   "source": [
    "## Initialize the `SparkSession`"
   ]
  },
  {
   "cell_type": "code",
   "execution_count": 2,
   "metadata": {},
   "outputs": [
    {
     "name": "stdout",
     "output_type": "stream",
     "text": [
      "Starting Spark application\n"
     ]
    },
    {
     "data": {
      "text/html": [
       "<table>\n",
       "<tr><th>ID</th><th>YARN Application ID</th><th>Kind</th><th>State</th><th>Spark UI</th><th>Driver log</th><th>Current session?</th></tr><tr><td>3641</td><td>application_1587988164357_0257</td><td>pyspark</td><td>idle</td><td><a target=\"_blank\" href=\"http://iccluster044.iccluster.epfl.ch:8088/proxy/application_1587988164357_0257/\">Link</a></td><td><a target=\"_blank\" href=\"http://iccluster068.iccluster.epfl.ch:8042/node/containerlogs/container_e05_1587988164357_0257_01_000001/ebouille\">Link</a></td><td>✔</td></tr></table>"
      ],
      "text/plain": [
       "<IPython.core.display.HTML object>"
      ]
     },
     "metadata": {},
     "output_type": "display_data"
    },
    {
     "data": {
      "application/vnd.jupyter.widget-view+json": {
       "model_id": "",
       "version_major": 2,
       "version_minor": 0
      },
      "text/plain": [
       "FloatProgress(value=0.0, bar_style='info', description='Progress:', layout=Layout(height='25px', width='50%'),…"
      ]
     },
     "metadata": {},
     "output_type": "display_data"
    },
    {
     "name": "stdout",
     "output_type": "stream",
     "text": [
      "SparkSession available as 'spark'.\n"
     ]
    },
    {
     "data": {
      "application/vnd.jupyter.widget-view+json": {
       "model_id": "",
       "version_major": 2,
       "version_minor": 0
      },
      "text/plain": [
       "FloatProgress(value=0.0, bar_style='info', description='Progress:', layout=Layout(height='25px', width='50%'),…"
      ]
     },
     "metadata": {},
     "output_type": "display_data"
    },
    {
     "name": "stdout",
     "output_type": "stream",
     "text": [
      "<pyspark.sql.session.SparkSession object at 0x7f27874c5150>"
     ]
    }
   ],
   "source": [
    "spark"
   ]
  },
  {
   "cell_type": "code",
   "execution_count": 3,
   "metadata": {},
   "outputs": [
    {
     "data": {
      "text/html": [
       "Current session configs: <tt>{'driverMemory': '1000M', 'executorMemory': '4G', 'executorCores': 4, 'numExecutors': 10, 'kind': 'pyspark'}</tt><br>"
      ],
      "text/plain": [
       "<IPython.core.display.HTML object>"
      ]
     },
     "metadata": {},
     "output_type": "display_data"
    },
    {
     "data": {
      "text/html": [
       "<table>\n",
       "<tr><th>ID</th><th>YARN Application ID</th><th>Kind</th><th>State</th><th>Spark UI</th><th>Driver log</th><th>Current session?</th></tr><tr><td>3552</td><td>application_1587988164357_0168</td><td>pyspark</td><td>idle</td><td><a target=\"_blank\" href=\"http://iccluster044.iccluster.epfl.ch:8088/proxy/application_1587988164357_0168/\">Link</a></td><td><a target=\"_blank\" href=\"http://iccluster066.iccluster.epfl.ch:8042/node/containerlogs/container_e05_1587988164357_0168_01_000001/ebouille\">Link</a></td><td></td></tr><tr><td>3590</td><td>application_1587988164357_0206</td><td>pyspark</td><td>idle</td><td><a target=\"_blank\" href=\"http://iccluster044.iccluster.epfl.ch:8088/proxy/application_1587988164357_0206/\">Link</a></td><td><a target=\"_blank\" href=\"http://iccluster067.iccluster.epfl.ch:8042/node/containerlogs/container_e05_1587988164357_0206_01_000001/ebouille\">Link</a></td><td></td></tr><tr><td>3604</td><td>application_1587988164357_0220</td><td>pyspark</td><td>idle</td><td><a target=\"_blank\" href=\"http://iccluster044.iccluster.epfl.ch:8088/proxy/application_1587988164357_0220/\">Link</a></td><td><a target=\"_blank\" href=\"http://iccluster071.iccluster.epfl.ch:8042/node/containerlogs/container_e05_1587988164357_0220_01_000001/ebouille\">Link</a></td><td></td></tr><tr><td>3609</td><td>application_1587988164357_0225</td><td>pyspark</td><td>idle</td><td><a target=\"_blank\" href=\"http://iccluster044.iccluster.epfl.ch:8088/proxy/application_1587988164357_0225/\">Link</a></td><td><a target=\"_blank\" href=\"http://iccluster069.iccluster.epfl.ch:8042/node/containerlogs/container_e05_1587988164357_0225_01_000001/ebouille\">Link</a></td><td></td></tr><tr><td>3614</td><td>application_1587988164357_0230</td><td>pyspark</td><td>idle</td><td><a target=\"_blank\" href=\"http://iccluster044.iccluster.epfl.ch:8088/proxy/application_1587988164357_0230/\">Link</a></td><td><a target=\"_blank\" href=\"http://iccluster068.iccluster.epfl.ch:8042/node/containerlogs/container_e05_1587988164357_0230_01_000001/ebouille\">Link</a></td><td></td></tr><tr><td>3617</td><td>application_1587988164357_0233</td><td>pyspark</td><td>busy</td><td><a target=\"_blank\" href=\"http://iccluster044.iccluster.epfl.ch:8088/proxy/application_1587988164357_0233/\">Link</a></td><td><a target=\"_blank\" href=\"http://iccluster071.iccluster.epfl.ch:8042/node/containerlogs/container_e05_1587988164357_0233_01_000001/ebouille\">Link</a></td><td></td></tr><tr><td>3618</td><td>application_1587988164357_0234</td><td>pyspark</td><td>idle</td><td><a target=\"_blank\" href=\"http://iccluster044.iccluster.epfl.ch:8088/proxy/application_1587988164357_0234/\">Link</a></td><td><a target=\"_blank\" href=\"http://iccluster066.iccluster.epfl.ch:8042/node/containerlogs/container_e05_1587988164357_0234_01_000001/ebouille\">Link</a></td><td></td></tr><tr><td>3620</td><td>application_1587988164357_0236</td><td>pyspark</td><td>idle</td><td><a target=\"_blank\" href=\"http://iccluster044.iccluster.epfl.ch:8088/proxy/application_1587988164357_0236/\">Link</a></td><td><a target=\"_blank\" href=\"http://iccluster072.iccluster.epfl.ch:8042/node/containerlogs/container_e05_1587988164357_0236_01_000001/ebouille\">Link</a></td><td></td></tr><tr><td>3622</td><td>application_1587988164357_0238</td><td>pyspark</td><td>busy</td><td><a target=\"_blank\" href=\"http://iccluster044.iccluster.epfl.ch:8088/proxy/application_1587988164357_0238/\">Link</a></td><td><a target=\"_blank\" href=\"http://iccluster069.iccluster.epfl.ch:8042/node/containerlogs/container_e05_1587988164357_0238_01_000001/ebouille\">Link</a></td><td></td></tr><tr><td>3625</td><td>application_1587988164357_0241</td><td>pyspark</td><td>idle</td><td><a target=\"_blank\" href=\"http://iccluster044.iccluster.epfl.ch:8088/proxy/application_1587988164357_0241/\">Link</a></td><td><a target=\"_blank\" href=\"http://iccluster071.iccluster.epfl.ch:8042/node/containerlogs/container_e05_1587988164357_0241_01_000001/ebouille\">Link</a></td><td></td></tr><tr><td>3627</td><td>application_1587988164357_0243</td><td>pyspark</td><td>idle</td><td><a target=\"_blank\" href=\"http://iccluster044.iccluster.epfl.ch:8088/proxy/application_1587988164357_0243/\">Link</a></td><td><a target=\"_blank\" href=\"http://iccluster065.iccluster.epfl.ch:8042/node/containerlogs/container_e05_1587988164357_0243_01_000001/ebouille\">Link</a></td><td></td></tr><tr><td>3631</td><td>application_1587988164357_0247</td><td>pyspark</td><td>idle</td><td><a target=\"_blank\" href=\"http://iccluster044.iccluster.epfl.ch:8088/proxy/application_1587988164357_0247/\">Link</a></td><td><a target=\"_blank\" href=\"http://iccluster070.iccluster.epfl.ch:8042/node/containerlogs/container_e05_1587988164357_0247_01_000001/ebouille\">Link</a></td><td></td></tr><tr><td>3632</td><td>application_1587988164357_0248</td><td>pyspark</td><td>idle</td><td><a target=\"_blank\" href=\"http://iccluster044.iccluster.epfl.ch:8088/proxy/application_1587988164357_0248/\">Link</a></td><td><a target=\"_blank\" href=\"http://iccluster072.iccluster.epfl.ch:8042/node/containerlogs/container_e05_1587988164357_0248_01_000001/ebouille\">Link</a></td><td></td></tr><tr><td>3636</td><td>application_1587988164357_0252</td><td>pyspark</td><td>idle</td><td><a target=\"_blank\" href=\"http://iccluster044.iccluster.epfl.ch:8088/proxy/application_1587988164357_0252/\">Link</a></td><td><a target=\"_blank\" href=\"http://iccluster070.iccluster.epfl.ch:8042/node/containerlogs/container_e05_1587988164357_0252_01_000001/ebouille\">Link</a></td><td></td></tr><tr><td>3637</td><td>application_1587988164357_0253</td><td>pyspark</td><td>idle</td><td><a target=\"_blank\" href=\"http://iccluster044.iccluster.epfl.ch:8088/proxy/application_1587988164357_0253/\">Link</a></td><td><a target=\"_blank\" href=\"http://iccluster067.iccluster.epfl.ch:8042/node/containerlogs/container_e05_1587988164357_0253_01_000001/ebouille\">Link</a></td><td></td></tr><tr><td>3638</td><td>application_1587988164357_0254</td><td>pyspark</td><td>idle</td><td><a target=\"_blank\" href=\"http://iccluster044.iccluster.epfl.ch:8088/proxy/application_1587988164357_0254/\">Link</a></td><td><a target=\"_blank\" href=\"http://iccluster065.iccluster.epfl.ch:8042/node/containerlogs/container_e05_1587988164357_0254_01_000001/ebouille\">Link</a></td><td></td></tr><tr><td>3639</td><td>application_1587988164357_0255</td><td>pyspark</td><td>busy</td><td><a target=\"_blank\" href=\"http://iccluster044.iccluster.epfl.ch:8088/proxy/application_1587988164357_0255/\">Link</a></td><td><a target=\"_blank\" href=\"http://iccluster068.iccluster.epfl.ch:8042/node/containerlogs/container_e05_1587988164357_0255_01_000001/ebouille\">Link</a></td><td></td></tr><tr><td>3640</td><td>application_1587988164357_0256</td><td>pyspark</td><td>idle</td><td><a target=\"_blank\" href=\"http://iccluster044.iccluster.epfl.ch:8088/proxy/application_1587988164357_0256/\">Link</a></td><td><a target=\"_blank\" href=\"http://iccluster065.iccluster.epfl.ch:8042/node/containerlogs/container_e05_1587988164357_0256_01_000001/ebouille\">Link</a></td><td></td></tr><tr><td>3641</td><td>application_1587988164357_0257</td><td>pyspark</td><td>idle</td><td><a target=\"_blank\" href=\"http://iccluster044.iccluster.epfl.ch:8088/proxy/application_1587988164357_0257/\">Link</a></td><td><a target=\"_blank\" href=\"http://iccluster068.iccluster.epfl.ch:8042/node/containerlogs/container_e05_1587988164357_0257_01_000001/ebouille\">Link</a></td><td>✔</td></tr></table>"
      ],
      "text/plain": [
       "<IPython.core.display.HTML object>"
      ]
     },
     "metadata": {},
     "output_type": "display_data"
    }
   ],
   "source": [
    "%%info"
   ]
  },
  {
   "cell_type": "code",
   "execution_count": 4,
   "metadata": {},
   "outputs": [
    {
     "data": {
      "text/html": [
       "\n",
       "<table>\n",
       "  <tr>\n",
       "    <th>Magic</th>\n",
       "    <th>Example</th>\n",
       "    <th>Explanation</th>\n",
       "  </tr>\n",
       "  <tr>\n",
       "    <td>info</td>\n",
       "    <td>%%info</td>\n",
       "    <td>Outputs session information for the current Livy endpoint.</td>\n",
       "  </tr>\n",
       "  <tr>\n",
       "    <td>cleanup</td>\n",
       "    <td>%%cleanup -f</td>\n",
       "    <td>Deletes all sessions for the current Livy endpoint, including this notebook's session. The force flag is mandatory.</td>\n",
       "  </tr>\n",
       "  <tr>\n",
       "    <td>delete</td>\n",
       "    <td>%%delete -f -s 0</td>\n",
       "    <td>Deletes a session by number for the current Livy endpoint. Cannot delete this kernel's session.</td>\n",
       "  </tr>\n",
       "  <tr>\n",
       "    <td>logs</td>\n",
       "    <td>%%logs</td>\n",
       "    <td>Outputs the current session's Livy logs.</td>\n",
       "  </tr>\n",
       "  <tr>\n",
       "    <td>configure</td>\n",
       "    <td>%%configure -f<br/>{\"executorMemory\": \"1000M\", \"executorCores\": 4}</td>\n",
       "    <td>Configure the session creation parameters. The force flag is mandatory if a session has already been\n",
       "    created and the session will be dropped and recreated.<br/>Look at <a href=\"https://github.com/cloudera/livy#request-body\">\n",
       "    Livy's POST /sessions Request Body</a> for a list of valid parameters. Parameters must be passed in as a JSON string.</td>\n",
       "  </tr>\n",
       "  <tr>\n",
       "    <td>spark</td>\n",
       "    <td>%%spark -o df<br/>df = spark.read.parquet('...</td>\n",
       "    <td>Executes spark commands.\n",
       "    Parameters:\n",
       "      <ul>\n",
       "        <li>-o VAR_NAME: The Spark dataframe of name VAR_NAME will be available in the %%local Python context as a\n",
       "          <a href=\"http://pandas.pydata.org/\">Pandas</a> dataframe with the same name.</li>\n",
       "        <li>-m METHOD: Sample method, either <tt>take</tt> or <tt>sample</tt>.</li>\n",
       "        <li>-n MAXROWS: The maximum number of rows of a dataframe that will be pulled from Livy to Jupyter.\n",
       "            If this number is negative, then the number of rows will be unlimited.</li>\n",
       "        <li>-r FRACTION: Fraction used for sampling.</li>\n",
       "      </ul>\n",
       "    </td>\n",
       "  </tr>\n",
       "  <tr>\n",
       "    <td>sql</td>\n",
       "    <td>%%sql -o tables -q<br/>SHOW TABLES</td>\n",
       "    <td>Executes a SQL query against the variable sqlContext (Spark v1.x) or spark (Spark v2.x).\n",
       "    Parameters:\n",
       "      <ul>\n",
       "        <li>-o VAR_NAME: The result of the SQL query will be available in the %%local Python context as a\n",
       "          <a href=\"http://pandas.pydata.org/\">Pandas</a> dataframe.</li>\n",
       "        <li>-q: The magic will return None instead of the dataframe (no visualization).</li>\n",
       "        <li>-m, -n, -r are the same as the %%spark parameters above.</li>\n",
       "      </ul>\n",
       "    </td>\n",
       "  </tr>\n",
       "  <tr>\n",
       "    <td>local</td>\n",
       "    <td>%%local<br/>a = 1</td>\n",
       "    <td>All the code in subsequent lines will be executed locally. Code must be valid Python code.</td>\n",
       "  </tr>\n",
       "  <tr>\n",
       "    <td>send_to_spark</td>\n",
       "    <td>%%send_to_spark -o variable -t str -n var</td>\n",
       "    <td>Sends a variable from local output to spark cluster.\n",
       "    <br/>\n",
       "    Parameters:\n",
       "      <ul>\n",
       "        <li>-i VAR_NAME: Local Pandas DataFrame(or String) of name VAR_NAME will be available in the %%spark context as a \n",
       "          Spark dataframe(or String) with the same name.</li>\n",
       "        <li>-t TYPE: Specifies the type of variable passed as -i. Available options are:\n",
       "         `str` for string and `df` for Pandas DataFrame. Optional, defaults to `str`.</li>\n",
       "        <li>-n NAME: Custom name of variable passed as -i. Optional, defaults to -i variable name.</li>\n",
       "        <li>-m MAXROWS: Maximum amount of Pandas rows that will be sent to Spark. Defaults to 2500.</li>\n",
       "      </ul>\n",
       "    </td>\n",
       "  </tr>\n",
       "</table>\n"
      ],
      "text/plain": [
       "<IPython.core.display.HTML object>"
      ]
     },
     "metadata": {},
     "output_type": "display_data"
    }
   ],
   "source": [
    "%%help"
   ]
  },
  {
   "cell_type": "markdown",
   "metadata": {},
   "source": [
    "## PART I: Set up the hashtag `DataFrame` (10 points / 60)\n",
    "\n",
    "We have prepared the hashtag data spanning the time from May to July, 2016. This is a significant time in modern European history, e.g. see [Brexit](https://en.wikipedia.org/wiki/Brexit). Lets see if we can see any interesting trends about these events in the Twitter data. "
   ]
  },
  {
   "cell_type": "code",
   "execution_count": 5,
   "metadata": {
    "scrolled": true
   },
   "outputs": [
    {
     "data": {
      "application/vnd.jupyter.widget-view+json": {
       "model_id": "",
       "version_major": 2,
       "version_minor": 0
      },
      "text/plain": [
       "FloatProgress(value=0.0, bar_style='info', description='Progress:', layout=Layout(height='25px', width='50%'),…"
      ]
     },
     "metadata": {},
     "output_type": "display_data"
    }
   ],
   "source": [
    "import pyspark.sql.functions as functions"
   ]
  },
  {
   "cell_type": "markdown",
   "metadata": {},
   "source": [
    "### I.a: TODO (1 point/10)\n",
    "\n",
    "Load the **parquet** data from `/data/twitter/parquet/hashtags` into a Spark dataframe using the appropriate `SparkSession` method. \n",
    "\n",
    "Look at the first few rows of the dataset - note the timestamp and its units!"
   ]
  },
  {
   "cell_type": "code",
   "execution_count": 6,
   "metadata": {
    "scrolled": true
   },
   "outputs": [
    {
     "data": {
      "application/vnd.jupyter.widget-view+json": {
       "model_id": "",
       "version_major": 2,
       "version_minor": 0
      },
      "text/plain": [
       "FloatProgress(value=0.0, bar_style='info', description='Progress:', layout=Layout(height='25px', width='50%'),…"
      ]
     },
     "metadata": {},
     "output_type": "display_data"
    }
   ],
   "source": [
    "# TODO\n",
    "df = spark.read.parquet(\"/data/twitter/parquet/hashtags\")"
   ]
  },
  {
   "cell_type": "code",
   "execution_count": 7,
   "metadata": {},
   "outputs": [
    {
     "data": {
      "application/vnd.jupyter.widget-view+json": {
       "model_id": "",
       "version_major": 2,
       "version_minor": 0
      },
      "text/plain": [
       "FloatProgress(value=0.0, bar_style='info', description='Progress:', layout=Layout(height='25px', width='50%'),…"
      ]
     },
     "metadata": {},
     "output_type": "display_data"
    },
    {
     "name": "stdout",
     "output_type": "stream",
     "text": [
      "root\n",
      " |-- timestamp_s: long (nullable = true)\n",
      " |-- id: long (nullable = true)\n",
      " |-- lang: string (nullable = true)\n",
      " |-- hashtag: string (nullable = true)"
     ]
    }
   ],
   "source": [
    "df.printSchema()"
   ]
  },
  {
   "cell_type": "code",
   "execution_count": 8,
   "metadata": {
    "scrolled": true
   },
   "outputs": [
    {
     "data": {
      "application/vnd.jupyter.widget-view+json": {
       "model_id": "",
       "version_major": 2,
       "version_minor": 0
      },
      "text/plain": [
       "FloatProgress(value=0.0, bar_style='info', description='Progress:', layout=Layout(height='25px', width='50%'),…"
      ]
     },
     "metadata": {},
     "output_type": "display_data"
    },
    {
     "name": "stdout",
     "output_type": "stream",
     "text": [
      "+-----------+------------------+----+-----------------+\n",
      "|timestamp_s|                id|lang|          hashtag|\n",
      "+-----------+------------------+----+-----------------+\n",
      "| 1464768480|737918607980670976|  tr|          lovebts|\n",
      "| 1464768480|737918607980670976|  tr|            방탄소년단|\n",
      "| 1464768480|737918607963873281|  ja|          tokyofm|\n",
      "| 1464768480|737918607976452096|  en|          SotoBot|\n",
      "| 1464768480|737918607976497152|  en|           Fenton|\n",
      "| 1464768480|737918607976497152|  en|     vintageglass|\n",
      "| 1464768480|737918607976497152|  en|        glassbell|\n",
      "| 1464768480|737918607959719941|  en|          vintage|\n",
      "| 1464768480|737918607959719941|  en|            1970s|\n",
      "| 1464768480|737918607959719941|  en|              mod|\n",
      "| 1464768481|737918612158189568|  ar|        ابن_الغيم|\n",
      "| 1464768481|737918612158156802|  en|creativitybooster|\n",
      "| 1464768481|737918612158156802|  en|    growthhacking|\n",
      "| 1464768481|737918612158156802|  en| entrepreneurship|\n",
      "| 1464768481|737918612158222336|  en|    jewelryonetsy|\n",
      "| 1464768481|737918612158222336|  en|          Jetteam|\n",
      "| 1464768481|737918612162392064|  en|       TeenChoice|\n",
      "| 1464768481|737918612162392064|  en| ChoiceMaleHottie|\n",
      "| 1464768481|737918612149829632|  en|       NowPlaying|\n",
      "| 1464768481|737918612149829632|  en|             Maui|\n",
      "+-----------+------------------+----+-----------------+\n",
      "only showing top 20 rows"
     ]
    }
   ],
   "source": [
    "df.show()"
   ]
  },
  {
   "cell_type": "markdown",
   "metadata": {},
   "source": [
    "**The timestamp is in unix time, a system for describing a point in time in the number of seconds that have elapsed since the Unix epoch (00:00:00 UTC on 1 January 1970).**"
   ]
  },
  {
   "cell_type": "markdown",
   "metadata": {},
   "source": [
    "### User-defined functions\n",
    "\n",
    "A neat trick of spark dataframes is that you can essentially use something very much like an RDD `map` method but without switching to the RDD. If you are familiar with database languages, this works very much like e.g. a user-defined function in SQL. \n",
    "\n",
    "So, for example, if we wanted to make a user-defined python function that returns the hashtags in lowercase, we could do something like this:"
   ]
  },
  {
   "cell_type": "code",
   "execution_count": 9,
   "metadata": {
    "scrolled": true
   },
   "outputs": [
    {
     "data": {
      "application/vnd.jupyter.widget-view+json": {
       "model_id": "",
       "version_major": 2,
       "version_minor": 0
      },
      "text/plain": [
       "FloatProgress(value=0.0, bar_style='info', description='Progress:', layout=Layout(height='25px', width='50%'),…"
      ]
     },
     "metadata": {},
     "output_type": "display_data"
    }
   ],
   "source": [
    "@functions.udf\n",
    "def lowercase(text):\n",
    "    \"\"\"Convert text to lowercase\"\"\"\n",
    "    return text.lower()"
   ]
  },
  {
   "cell_type": "markdown",
   "metadata": {},
   "source": [
    "The @functions.udf is a \"decorator\" -- this is really handy python syntactic sugar and in this case is equivalent to:\n",
    "\n",
    "```python\n",
    "def lowercase(text):\n",
    "    return text.lower()\n",
    "    \n",
    "lowercase = functions.udf(lowercase)\n",
    "```\n",
    "\n",
    "It basically takes our function and adds to its functionality. In this case, it registers our function as a pyspark dataframe user-defined function (UDF).\n",
    "\n",
    "Using these UDFs is very straightforward and analogous to other Spark dataframe operations. For example:"
   ]
  },
  {
   "cell_type": "code",
   "execution_count": 10,
   "metadata": {
    "scrolled": true
   },
   "outputs": [
    {
     "data": {
      "application/vnd.jupyter.widget-view+json": {
       "model_id": "",
       "version_major": 2,
       "version_minor": 0
      },
      "text/plain": [
       "FloatProgress(value=0.0, bar_style='info', description='Progress:', layout=Layout(height='25px', width='50%'),…"
      ]
     },
     "metadata": {},
     "output_type": "display_data"
    },
    {
     "name": "stdout",
     "output_type": "stream",
     "text": [
      "+------------------+\n",
      "|lowercase(hashtag)|\n",
      "+------------------+\n",
      "|           lovebts|\n",
      "|             방탄소년단|\n",
      "|           tokyofm|\n",
      "|           sotobot|\n",
      "|            fenton|\n",
      "|      vintageglass|\n",
      "|         glassbell|\n",
      "|           vintage|\n",
      "|             1970s|\n",
      "|               mod|\n",
      "|         ابن_الغيم|\n",
      "| creativitybooster|\n",
      "|     growthhacking|\n",
      "|  entrepreneurship|\n",
      "|     jewelryonetsy|\n",
      "|           jetteam|\n",
      "|        teenchoice|\n",
      "|  choicemalehottie|\n",
      "|        nowplaying|\n",
      "|              maui|\n",
      "+------------------+\n",
      "only showing top 20 rows"
     ]
    }
   ],
   "source": [
    "df.select(lowercase(df.hashtag)).show()"
   ]
  },
  {
   "cell_type": "markdown",
   "metadata": {},
   "source": [
    "Using a framework like Spark is all about understanding the ins and outs of how it functions and knowing what it offers. One of the cool things about the dataframe API is that many functions are already defined for you (turning strings into lowercase being one of them). \n",
    "\n",
    "### I.b: TODO (2 points / 10)\n",
    "\n",
    "Find the [Spark python API documentation](https://spark.apache.org/docs/latest/api/python/index.html). Look for the `sql` section and find the listing of `sql.functions`. Repeat the above (turning hashtags into lowercase) but use the built-in function."
   ]
  },
  {
   "cell_type": "code",
   "execution_count": 11,
   "metadata": {
    "scrolled": true
   },
   "outputs": [
    {
     "data": {
      "application/vnd.jupyter.widget-view+json": {
       "model_id": "",
       "version_major": 2,
       "version_minor": 0
      },
      "text/plain": [
       "FloatProgress(value=0.0, bar_style='info', description='Progress:', layout=Layout(height='25px', width='50%'),…"
      ]
     },
     "metadata": {},
     "output_type": "display_data"
    },
    {
     "name": "stdout",
     "output_type": "stream",
     "text": [
      "+-----------------+\n",
      "|   lower(hashtag)|\n",
      "+-----------------+\n",
      "|          lovebts|\n",
      "|            방탄소년단|\n",
      "|          tokyofm|\n",
      "|          sotobot|\n",
      "|           fenton|\n",
      "|     vintageglass|\n",
      "|        glassbell|\n",
      "|          vintage|\n",
      "|            1970s|\n",
      "|              mod|\n",
      "|        ابن_الغيم|\n",
      "|creativitybooster|\n",
      "|    growthhacking|\n",
      "| entrepreneurship|\n",
      "|    jewelryonetsy|\n",
      "|          jetteam|\n",
      "|       teenchoice|\n",
      "| choicemalehottie|\n",
      "|       nowplaying|\n",
      "|             maui|\n",
      "+-----------------+\n",
      "only showing top 20 rows"
     ]
    }
   ],
   "source": [
    "df.select(functions.lower(df.hashtag)).show()"
   ]
  },
  {
   "cell_type": "markdown",
   "metadata": {},
   "source": [
    "We'll work with a combination of these built-in functions and user-defined functions for the remainder of this homework. \n",
    "\n",
    "### I.c: TODO (3 points/10)\n",
    "\n",
    "Create `english_df` consisting of **lowercase** hashtags from only english-language tweets. In addition, convert the timestamp to a more readable format like this and name the column `date`:\n",
    "\n",
    "```\n",
    "2016-05-01 08:30:00\n",
    "```"
   ]
  },
  {
   "cell_type": "markdown",
   "metadata": {},
   "source": [
    "Your `english_df` should look something like this:\n",
    "\n",
    "```\n",
    "+-----------+----+------------+-------------------+\n",
    "|timestamp_s|lang|     hashtag|               date|\n",
    "+-----------+----+------------+-------------------+\n",
    "| 1464768480|  en|     sotobot|2016-06-01 10:08:00|\n",
    "| 1464768480|  en|      fenton|2016-06-01 10:08:00|\n",
    "| 1464768480|  en|vintageglass|2016-06-01 10:08:00|\n",
    "| 1464768480|  en|   glassbell|2016-06-01 10:08:00|\n",
    "| 1464768480|  en|     vintage|2016-06-01 10:08:00|\n",
    "+-----------+----+------------+-------------------+\n",
    "```"
   ]
  },
  {
   "cell_type": "code",
   "execution_count": 12,
   "metadata": {
    "scrolled": true
   },
   "outputs": [
    {
     "data": {
      "application/vnd.jupyter.widget-view+json": {
       "model_id": "",
       "version_major": 2,
       "version_minor": 0
      },
      "text/plain": [
       "FloatProgress(value=0.0, bar_style='info', description='Progress:', layout=Layout(height='25px', width='50%'),…"
      ]
     },
     "metadata": {},
     "output_type": "display_data"
    },
    {
     "name": "stdout",
     "output_type": "stream",
     "text": [
      "+-----------+----+------------+-------------------+\n",
      "|timestamp_s|lang|     hashtag|               date|\n",
      "+-----------+----+------------+-------------------+\n",
      "| 1464768480|  en|     sotobot|2016-06-01 10:08:00|\n",
      "| 1464768480|  en|      fenton|2016-06-01 10:08:00|\n",
      "| 1464768480|  en|vintageglass|2016-06-01 10:08:00|\n",
      "| 1464768480|  en|   glassbell|2016-06-01 10:08:00|\n",
      "| 1464768480|  en|     vintage|2016-06-01 10:08:00|\n",
      "+-----------+----+------------+-------------------+\n",
      "only showing top 5 rows"
     ]
    }
   ],
   "source": [
    "# English language\n",
    "english_df = df.filter(df.lang == 'en')\n",
    "\n",
    "# Select columns,\n",
    "# apply lowercase to the 'hashtag' column,\n",
    "# create column 'date' showing the timestamp conversion\n",
    "english_df = english_df.select('timestamp_s', \n",
    "                               'lang',\n",
    "                               functions.lower(english_df.hashtag).alias('hashtag'),\n",
    "                               english_df.timestamp_s.cast('timestamp').alias('date')).cache()\n",
    "\n",
    "english_df.show(5)"
   ]
  },
  {
   "cell_type": "markdown",
   "metadata": {},
   "source": [
    "**We obtain the expected result after the transformations.**"
   ]
  },
  {
   "cell_type": "markdown",
   "metadata": {},
   "source": [
    "### I.d: TODO (4 points/10)\n",
    "\n",
    "We \"claim\" the data contains all twitters from May to July 2016, however, that's not true. Check which (date, hour) are in `english_df` and which are missing, e.g. 2016-05-01, 10h is in the dataframe while 2016-04-01, 10h not."
   ]
  },
  {
   "cell_type": "markdown",
   "metadata": {},
   "source": [
    "**Slack update : Need to show the missing data from 2016.05.01 8h to 2016.08.01 7h**"
   ]
  },
  {
   "cell_type": "code",
   "execution_count": 13,
   "metadata": {},
   "outputs": [
    {
     "data": {
      "application/vnd.jupyter.widget-view+json": {
       "model_id": "",
       "version_major": 2,
       "version_minor": 0
      },
      "text/plain": [
       "FloatProgress(value=0.0, bar_style='info', description='Progress:', layout=Layout(height='25px', width='50%'),…"
      ]
     },
     "metadata": {},
     "output_type": "display_data"
    },
    {
     "name": "stdout",
     "output_type": "stream",
     "text": [
      "root\n",
      " |-- timestamp_s: long (nullable = true)\n",
      " |-- lang: string (nullable = true)\n",
      " |-- hashtag: string (nullable = true)\n",
      " |-- date: timestamp (nullable = true)"
     ]
    }
   ],
   "source": [
    "english_df.printSchema()"
   ]
  },
  {
   "cell_type": "code",
   "execution_count": 14,
   "metadata": {},
   "outputs": [
    {
     "data": {
      "application/vnd.jupyter.widget-view+json": {
       "model_id": "",
       "version_major": 2,
       "version_minor": 0
      },
      "text/plain": [
       "FloatProgress(value=0.0, bar_style='info', description='Progress:', layout=Layout(height='25px', width='50%'),…"
      ]
     },
     "metadata": {},
     "output_type": "display_data"
    },
    {
     "name": "stdout",
     "output_type": "stream",
     "text": [
      "+-------------+\n",
      "|    date_hour|\n",
      "+-------------+\n",
      "|2016-05-01 08|\n",
      "|2016-05-01 09|\n",
      "|2016-05-01 10|\n",
      "|2016-05-01 11|\n",
      "|2016-05-01 12|\n",
      "+-------------+\n",
      "only showing top 5 rows"
     ]
    }
   ],
   "source": [
    "import datetime as dt \n",
    "import pandas as pd \n",
    "import numpy as np \n",
    "\n",
    "# Define date range\n",
    "START_DATE = dt.datetime(2016,5,1,8,0,0)  \n",
    "END_DATE = dt.datetime(2016,8,1,7,0,0) \n",
    "\n",
    "# Generate date range with pandas\n",
    "timerange = pd.date_range(start=START_DATE, end=END_DATE, freq='H')\n",
    "\n",
    "# Convert to timestamp\n",
    "timestamps = [int(x) - 7200 for x in timerange.values.astype(np.int64) // 10 ** 9]   #-7200 because we have a shift of 2 hours \n",
    "\n",
    "# Create pyspark dataframe from the above timestamps\n",
    "timeline = (spark.createDataFrame(timestamps, \"int\")\n",
    "    .withColumn('date_hour', functions.from_unixtime('value').cast('timestamp'))\n",
    "    .drop('value')\n",
    "    .select(functions.date_format('date_hour', 'yyy-MM-dd HH').alias('date_hour')) )\n",
    "\n",
    "timeline.show(5)"
   ]
  },
  {
   "cell_type": "code",
   "execution_count": 15,
   "metadata": {},
   "outputs": [
    {
     "data": {
      "application/vnd.jupyter.widget-view+json": {
       "model_id": "",
       "version_major": 2,
       "version_minor": 0
      },
      "text/plain": [
       "FloatProgress(value=0.0, bar_style='info', description='Progress:', layout=Layout(height='25px', width='50%'),…"
      ]
     },
     "metadata": {},
     "output_type": "display_data"
    },
    {
     "name": "stdout",
     "output_type": "stream",
     "text": [
      "[Row(max(date_hour)=u'2016-08-01 07')]"
     ]
    }
   ],
   "source": [
    "timeline.agg(functions.max(timeline.date_hour)).collect()"
   ]
  },
  {
   "cell_type": "code",
   "execution_count": 16,
   "metadata": {},
   "outputs": [
    {
     "data": {
      "application/vnd.jupyter.widget-view+json": {
       "model_id": "",
       "version_major": 2,
       "version_minor": 0
      },
      "text/plain": [
       "FloatProgress(value=0.0, bar_style='info', description='Progress:', layout=Layout(height='25px', width='50%'),…"
      ]
     },
     "metadata": {},
     "output_type": "display_data"
    },
    {
     "name": "stdout",
     "output_type": "stream",
     "text": [
      "+-------------+\n",
      "|    date_hour|\n",
      "+-------------+\n",
      "|2016-05-01 08|\n",
      "|2016-05-01 09|\n",
      "|2016-05-01 10|\n",
      "|2016-05-01 11|\n",
      "|2016-05-01 12|\n",
      "+-------------+\n",
      "only showing top 5 rows"
     ]
    }
   ],
   "source": [
    "# Dataframe with the date as (date, hour) format\n",
    "date_hour_df = english_df.select(functions.date_format('date', 'yyy-MM-dd HH').alias('date_hour')).distinct().orderBy('date_hour')\n",
    "date_hour_df.show(5)"
   ]
  },
  {
   "cell_type": "code",
   "execution_count": 17,
   "metadata": {},
   "outputs": [
    {
     "data": {
      "application/vnd.jupyter.widget-view+json": {
       "model_id": "",
       "version_major": 2,
       "version_minor": 0
      },
      "text/plain": [
       "FloatProgress(value=0.0, bar_style='info', description='Progress:', layout=Layout(height='25px', width='50%'),…"
      ]
     },
     "metadata": {},
     "output_type": "display_data"
    },
    {
     "name": "stdout",
     "output_type": "stream",
     "text": [
      "+-------------+\n",
      "|    date_hour|\n",
      "+-------------+\n",
      "|2016-05-02 01|\n",
      "|2016-05-02 02|\n",
      "|2016-05-02 03|\n",
      "|2016-05-02 04|\n",
      "|2016-05-02 08|\n",
      "|2016-05-02 09|\n",
      "|2016-05-02 10|\n",
      "|2016-05-02 11|\n",
      "|2016-05-02 12|\n",
      "|2016-05-02 13|\n",
      "|2016-05-02 14|\n",
      "|2016-05-27 08|\n",
      "|2016-05-27 09|\n",
      "|2016-05-27 10|\n",
      "|2016-05-27 11|\n",
      "|2016-05-27 12|\n",
      "|2016-05-27 13|\n",
      "|2016-05-27 14|\n",
      "|2016-05-27 15|\n",
      "|2016-06-02 08|\n",
      "+-------------+\n",
      "only showing top 20 rows"
     ]
    }
   ],
   "source": [
    "time_not_present = timeline.select('date_hour').subtract(date_hour_df.select('date_hour')).orderBy('date_hour')\n",
    "time_not_present.show()"
   ]
  },
  {
   "cell_type": "code",
   "execution_count": 18,
   "metadata": {},
   "outputs": [
    {
     "data": {
      "application/vnd.jupyter.widget-view+json": {
       "model_id": "",
       "version_major": 2,
       "version_minor": 0
      },
      "text/plain": [
       "FloatProgress(value=0.0, bar_style='info', description='Progress:', layout=Layout(height='25px', width='50%'),…"
      ]
     },
     "metadata": {},
     "output_type": "display_data"
    },
    {
     "name": "stdout",
     "output_type": "stream",
     "text": [
      "+----------+-----+\n",
      "|      date|count|\n",
      "+----------+-----+\n",
      "|2016-05-01|   16|\n",
      "|2016-05-02|   13|\n",
      "|2016-05-03|   24|\n",
      "|2016-05-04|   24|\n",
      "|2016-05-05|   24|\n",
      "+----------+-----+\n",
      "only showing top 5 rows"
     ]
    }
   ],
   "source": [
    "# Dataframe with the countings representing the total number of different hours for each date\n",
    "date_counts_df = date_hour_df.select(functions.date_format('date_hour', 'yyy-MM-dd').alias('date'))\\\n",
    "                             .groupBy('date')\\\n",
    "                             .count()\\\n",
    "                             .orderBy('date')\n",
    "date_counts_df.show(5)"
   ]
  },
  {
   "cell_type": "markdown",
   "metadata": {},
   "source": [
    "**We can easily see the dates that have missing data since they correspond to the ones with count < 24. We can thus see in *date_counts_df* which dates fit this criteria, and then continue the investigation by looking at *date_hour_df*. Since it's a tedious process, we will only tell which (date, hour) are missing.**\n",
    "\n",
    "**The missing date will be in format:**\n",
    "\n",
    "**- DATE: MISSING HOURS (expressed either as one missing hour: HOUR, or an interval HOUR1 -> (to) HOUR2)**"
   ]
  },
  {
   "cell_type": "markdown",
   "metadata": {},
   "source": [
    "**Missing data:**\n",
    "\n",
    "**- 05-01: 00 -> 07**\n",
    "\n",
    "**- 05-02: 01 -> 04, 08 -> 14**\n",
    "\n",
    "**- 05-27: 08 -> 15**\n",
    "\n",
    "**- 06-02: 08 -> 23**\n",
    "\n",
    "**- 06-03 -> 06-06: all hours missing**\n",
    "\n",
    "**- 06-07: 00 -> 19**\n",
    "\n",
    "**- 06-08: 18 -> 20, 22**\n",
    "\n",
    "**- 06-16: 15 -> 23**\n",
    "\n",
    "**- 06-17: all hours missing**"
   ]
  },
  {
   "cell_type": "markdown",
   "metadata": {},
   "source": [
    "## PART II: Twitter hashtag trends (50 points / 60)\n",
    "\n",
    "In this section we will try to do a slightly more complicated analysis of the tweets. Our goal is to get an idea of tweet frequency as a function of time for certain hashtags. \n",
    "\n",
    "Lets build this up in steps. First, lets see how we can start to organize the tweets by their timestamps. \n",
    "\n",
    "As a first easy example, lets say we just want to count the number of tweets per minute over the entire span of our data. For this, we first need a \"global\" minute value, e.g. \"minute of the year\" or something similar. \n",
    "\n",
    "Spark provides us with some handy built-in dataframe functions that are made for transforming date and time fields. \n",
    "\n",
    "Have a look [here](http://spark.apache.org/docs/latest/api/python/pyspark.sql.html#module-pyspark.sql.functions) to see the whole list of custom dataframe functions - you will need to use them to complete the next set of TODO items."
   ]
  },
  {
   "cell_type": "markdown",
   "metadata": {},
   "source": [
    "Note that the functions can be combined. Consider the following dataframe and its transformation:"
   ]
  },
  {
   "cell_type": "code",
   "execution_count": 19,
   "metadata": {
    "scrolled": true
   },
   "outputs": [
    {
     "data": {
      "application/vnd.jupyter.widget-view+json": {
       "model_id": "",
       "version_major": 2,
       "version_minor": 0
      },
      "text/plain": [
       "FloatProgress(value=0.0, bar_style='info', description='Progress:', layout=Layout(height='25px', width='50%'),…"
      ]
     },
     "metadata": {},
     "output_type": "display_data"
    },
    {
     "name": "stdout",
     "output_type": "stream",
     "text": [
      "+---------------------+\n",
      "|SIN(RADIANS(degrees))|\n",
      "+---------------------+\n",
      "|                  0.0|\n",
      "|  0.01745240643728351|\n",
      "|  0.03489949670250097|\n",
      "|  0.05233595624294383|\n",
      "|   0.0697564737441253|\n",
      "|  0.08715574274765817|\n",
      "|  0.10452846326765346|\n",
      "|  0.12186934340514748|\n",
      "|  0.13917310096006544|\n",
      "|  0.15643446504023087|\n",
      "|  0.17364817766693033|\n",
      "|   0.1908089953765448|\n",
      "|  0.20791169081775931|\n",
      "|  0.22495105434386498|\n",
      "|  0.24192189559966773|\n",
      "|  0.25881904510252074|\n",
      "|  0.27563735581699916|\n",
      "|   0.2923717047227367|\n",
      "|   0.3090169943749474|\n",
      "|   0.3255681544571567|\n",
      "+---------------------+\n",
      "only showing top 20 rows"
     ]
    }
   ],
   "source": [
    "from pyspark.sql import Row\n",
    "\n",
    "# create a sample dataframe with one column \"degrees\" going from 0 to 180\n",
    "test_df = spark.createDataFrame(spark.sparkContext.range(180).map(lambda x: Row(degrees=x)), ['degrees'])\n",
    "\n",
    "# define a function \"sin_rad\" that first converts degrees to radians and then takes the sine using built-in functions\n",
    "sin_rad = functions.sin(functions.radians(test_df.degrees))\n",
    "\n",
    "# show the result\n",
    "test_df.select(sin_rad).show()"
   ]
  },
  {
   "cell_type": "markdown",
   "metadata": {},
   "source": [
    "### DataFrames `groupBy`\n",
    "\n",
    "We used `groupBy` already in the previous notebook, but here we will take more advantage of its features. \n",
    "\n",
    "One important thing to note is that unlike other RDD or DataFrame transformations, the `groupBy` does not return another DataFrame, but a `GroupedData` object instead, with its own methods. These methods allow you to do various transformations and aggregations on the data of the grouped rows. \n",
    "\n",
    "Conceptually the procedure is a lot like this:\n",
    "\n",
    "![groupby](https://i.stack.imgur.com/sgCn1.jpg)\n",
    "\n",
    "The column that is used for the `groupBy` is the `key` - once we have the values of a particular key all together, we can use various aggregation functions on them to generate a transformed dataset. In this example, the aggregation function is a simple `sum`. In the simple procedure below, the `key` will be the hashtag."
   ]
  },
  {
   "cell_type": "markdown",
   "metadata": {},
   "source": [
    "### II.a: TODO (1 point / 50)\n",
    "\n",
    "Calculate the top five most common hashtags in the whole english-language dataset.\n",
    "\n",
    "This should be your result:\n",
    "\n",
    "```\n",
    "+-------------+------+\n",
    "|      hashtag| count|\n",
    "+-------------+------+\n",
    "|   mtvhottest|800527|\n",
    "|veranomtv2016|539028|\n",
    "|   teenchoice|345208|\n",
    "|   nowplaying|178561|\n",
    "|  gameinsight|165237|\n",
    "+-------------+------+\n",
    "```"
   ]
  },
  {
   "cell_type": "code",
   "execution_count": 20,
   "metadata": {},
   "outputs": [
    {
     "data": {
      "application/vnd.jupyter.widget-view+json": {
       "model_id": "",
       "version_major": 2,
       "version_minor": 0
      },
      "text/plain": [
       "FloatProgress(value=0.0, bar_style='info', description='Progress:', layout=Layout(height='25px', width='50%'),…"
      ]
     },
     "metadata": {},
     "output_type": "display_data"
    },
    {
     "name": "stdout",
     "output_type": "stream",
     "text": [
      "+-------------+------+\n",
      "|      hashtag| count|\n",
      "+-------------+------+\n",
      "|   mtvhottest|800527|\n",
      "|veranomtv2016|539028|\n",
      "|   teenchoice|345208|\n",
      "|   nowplaying|178561|\n",
      "|  gameinsight|165237|\n",
      "+-------------+------+\n",
      "only showing top 5 rows"
     ]
    }
   ],
   "source": [
    "english_df.groupBy('hashtag').count().orderBy('count', ascending=False).show(5)"
   ]
  },
  {
   "cell_type": "markdown",
   "metadata": {},
   "source": [
    "**We have the expected top 5 most common hashtags in the dataset.**"
   ]
  },
  {
   "cell_type": "markdown",
   "metadata": {},
   "source": [
    "## Daily hashtag trends\n",
    "\n",
    "Now we will start to complicate the analysis a bit. Remember, our goal is to uncover trending topics on a timescale of a few days. A much needed column then is simply `day`. To convert the date string into day-of-year, you can use the built-in [dayofyear](http://spark.apache.org/docs/latest/api/python/pyspark.sql.html#pyspark.sql.functions.dayofyear) function. \n",
    "\n",
    "In the subsequent sections we will then not only see which hashtags are globally most popular, but which ones experience the biggest changes in popularity - those are the \"trending\" topics. If there is suddenly a substantial increase of a hashtag over a matter of a day or two, it may signify an event taking place. "
   ]
  },
  {
   "cell_type": "markdown",
   "metadata": {},
   "source": [
    "### II.b: TODO (2 points / 50)\n",
    "\n",
    "Create a dataframe called `daily_hashtag` that includes the columns `month`, `week`, `day` and `hashtag`. Use the `english_df` you made above to start, and make sure you find the appropriate spark dataframe functions to make your life easier. Show the result.\n",
    "\n",
    "Try to match this view:\n",
    "\n",
    "```\n",
    "+-----+----+---+------------+\n",
    "|month|week|day|     hashtag|\n",
    "+-----+----+---+------------+\n",
    "|    6|  22|153|     sotobot|\n",
    "|    6|  22|153|      fenton|\n",
    "|    6|  22|153|vintageglass|\n",
    "|    6|  22|153|   glassbell|\n",
    "|    6|  22|153|     vintage|\n",
    "+-----+----+---+------------+\n",
    "```"
   ]
  },
  {
   "cell_type": "code",
   "execution_count": 21,
   "metadata": {
    "scrolled": true
   },
   "outputs": [
    {
     "data": {
      "application/vnd.jupyter.widget-view+json": {
       "model_id": "",
       "version_major": 2,
       "version_minor": 0
      },
      "text/plain": [
       "FloatProgress(value=0.0, bar_style='info', description='Progress:', layout=Layout(height='25px', width='50%'),…"
      ]
     },
     "metadata": {},
     "output_type": "display_data"
    },
    {
     "name": "stdout",
     "output_type": "stream",
     "text": [
      "+-----+----+---+------------+\n",
      "|month|week|day|     hashtag|\n",
      "+-----+----+---+------------+\n",
      "|    6|  22|153|     sotobot|\n",
      "|    6|  22|153|      fenton|\n",
      "|    6|  22|153|vintageglass|\n",
      "|    6|  22|153|   glassbell|\n",
      "|    6|  22|153|     vintage|\n",
      "+-----+----+---+------------+\n",
      "only showing top 5 rows"
     ]
    }
   ],
   "source": [
    "daily_hashtag = english_df.select(functions.month(english_df.date).alias('month'),\\\n",
    "                                  functions.weekofyear(english_df.date).alias('week'),\\\n",
    "                                  functions.dayofyear(english_df.date).alias('day'),\\\n",
    "                                  'hashtag')\n",
    "daily_hashtag.show(5)"
   ]
  },
  {
   "cell_type": "markdown",
   "metadata": {},
   "source": [
    "**Again, the results are matching the expected view.**"
   ]
  },
  {
   "cell_type": "markdown",
   "metadata": {},
   "source": [
    "### II.c: TODO (2 points / 50)\n",
    "\n",
    "Now we want to calculate the number of times a hashtag is used per day. Sort in descending order of daily counts and show the result. Call the resulting dataframe `day_counts`.\n",
    "\n",
    "Your output should look like this:\n",
    "\n",
    "```\n",
    "+---+----------+----+-----+\n",
    "|day|   hashtag|week|count|\n",
    "+---+----------+----+-----+\n",
    "|204|mtvhottest|  29|66372|\n",
    "|205|mtvhottest|  29|63495|\n",
    "|207|mtvhottest|  30|60768|\n",
    "|208|mtvhottest|  30|59065|\n",
    "|199|mtvhottest|  28|57956|\n",
    "+---+----------+----+-----+\n",
    "```\n",
    "\n",
    "<div class=\"alert alert-info\">\n",
    "<p>Make sure you use `cache()` when you create `day_counts` because we will need it in the steps that follow!</p>\n",
    "</div>"
   ]
  },
  {
   "cell_type": "code",
   "execution_count": 22,
   "metadata": {
    "scrolled": true
   },
   "outputs": [
    {
     "data": {
      "application/vnd.jupyter.widget-view+json": {
       "model_id": "",
       "version_major": 2,
       "version_minor": 0
      },
      "text/plain": [
       "FloatProgress(value=0.0, bar_style='info', description='Progress:', layout=Layout(height='25px', width='50%'),…"
      ]
     },
     "metadata": {},
     "output_type": "display_data"
    },
    {
     "name": "stdout",
     "output_type": "stream",
     "text": [
      "+---+----------+----+-----+\n",
      "|day|   hashtag|week|count|\n",
      "+---+----------+----+-----+\n",
      "|204|mtvhottest|  29|66372|\n",
      "|205|mtvhottest|  29|63495|\n",
      "|207|mtvhottest|  30|60768|\n",
      "|208|mtvhottest|  30|59065|\n",
      "|199|mtvhottest|  28|57956|\n",
      "+---+----------+----+-----+\n",
      "only showing top 5 rows"
     ]
    }
   ],
   "source": [
    "day_counts = daily_hashtag.groupBy(['day', 'hashtag', 'week']).count().orderBy('count', ascending=False).cache()\n",
    "day_counts.show(5)"
   ]
  },
  {
   "cell_type": "markdown",
   "metadata": {},
   "source": [
    "### II.d: TODO (2 points / 50)\n",
    "\n",
    "To get an idea of which hashtags stay popular for several days, calculate the average number of daily occurences for each week. \n",
    "\n",
    "__Hint:__ use the `week` column we created above. Sort in descending order and show the top 20."
   ]
  },
  {
   "cell_type": "code",
   "execution_count": 23,
   "metadata": {
    "scrolled": true
   },
   "outputs": [
    {
     "data": {
      "application/vnd.jupyter.widget-view+json": {
       "model_id": "",
       "version_major": 2,
       "version_minor": 0
      },
      "text/plain": [
       "FloatProgress(value=0.0, bar_style='info', description='Progress:', layout=Layout(height='25px', width='50%'),…"
      ]
     },
     "metadata": {},
     "output_type": "display_data"
    },
    {
     "name": "stdout",
     "output_type": "stream",
     "text": [
      "+-------------------+----+------------------+\n",
      "|            hashtag|week|        avg(count)|\n",
      "+-------------------+----+------------------+\n",
      "|         mtvhottest|  29| 52061.42857142857|\n",
      "|         mtvhottest|  30|           47927.0|\n",
      "|         teenchoice|  19|20068.571428571428|\n",
      "|      veranomtv2016|  25| 17867.85714285714|\n",
      "|      veranomtv2016|  26| 17116.14285714286|\n",
      "|      veranomtv2016|  27| 14476.57142857143|\n",
      "|         mtvhottest|  31|           14062.0|\n",
      "|      veranomtv2016|  30|12510.285714285714|\n",
      "|         mtvhottest|  28|12287.714285714286|\n",
      "|      mtvawardsstar|  23|12191.833333333334|\n",
      "|       ripchristina|  23|           11963.5|\n",
      "|      altonsterling|  27|           10266.2|\n",
      "|       demsinphilly|  30|10063.714285714286|\n",
      "|aldub1stanniversary|  28|           8413.25|\n",
      "|      veranomtv2016|  29| 8323.857142857143|\n",
      "|           rncincle|  29| 8195.285714285714|\n",
      "| pushawardslizquens|  30|            8148.0|\n",
      "|       1dreamboy2ff|  25|            7219.0|\n",
      "|             brexit|  25| 7021.714285714285|\n",
      "|     prayfororlando|  23|            6904.0|\n",
      "+-------------------+----+------------------+\n",
      "only showing top 20 rows"
     ]
    }
   ],
   "source": [
    "day_counts.groupBy(['hashtag', 'week']).agg(functions.mean('count')).orderBy('avg(count)', ascending=False).show(20)"
   ]
  },
  {
   "cell_type": "markdown",
   "metadata": {},
   "source": [
    "**We find in the top of list some hashtags about tv shows where the viewers vote by tweeting. We also find hashtags referring to major events that happened at that period like the death of a famous singer, the democratic presidential race and mass shooting incidents. The Brexit arrives only at the 19th position with an average of 7021 tweets per day during week 25.**"
   ]
  },
  {
   "cell_type": "markdown",
   "metadata": {},
   "source": [
    "### Using `Window` functions \n",
    "\n",
    "Window functions are another awesome feature of dataframes. They allow users to accomplish complex tasks using very concise and simple code. \n",
    "\n",
    "Above we computed just the hashtag that had the most occurrences on *any* day. Now lets say we want to know the top tweets for *each* day.  \n",
    "\n",
    "This is a non-trivial thing to compute and requires \"windowing\" our data. I recommend reading this [window functions article](https://databricks.com/blog/2015/07/15/introducing-window-functions-in-spark-sql.html) to get acquainted with the idea. You can think of a window function as a fine-grained and more flexible `groupBy`. \n",
    "\n",
    "There are two things we need to define to use window functions:\n",
    "\n",
    "1. the \"window\" to use, based on which columns (partitioning) and how the rows should be ordered \n",
    "2. the computation to carry out for each windowed group, e.g. a max, an average etc.\n",
    "\n",
    "Lets see how this works by example. We will define a window function, `daily_window` that will partition data based on the `day` column. Within each window, the rows will be ordered by the daily hashtag count that we computed above. Finally, we will use the rank function **over** this window to give us the ranking of top tweets. \n",
    "\n",
    "In the end, this is a fairly complicated operation achieved in just a few lines of code! (can you think of how to do this with an RDD??)"
   ]
  },
  {
   "cell_type": "code",
   "execution_count": 24,
   "metadata": {
    "scrolled": true
   },
   "outputs": [
    {
     "data": {
      "application/vnd.jupyter.widget-view+json": {
       "model_id": "",
       "version_major": 2,
       "version_minor": 0
      },
      "text/plain": [
       "FloatProgress(value=0.0, bar_style='info', description='Progress:', layout=Layout(height='25px', width='50%'),…"
      ]
     },
     "metadata": {},
     "output_type": "display_data"
    }
   ],
   "source": [
    "from pyspark.sql import Window"
   ]
  },
  {
   "cell_type": "markdown",
   "metadata": {},
   "source": [
    "First, we specify the window function and the ordering:"
   ]
  },
  {
   "cell_type": "code",
   "execution_count": 25,
   "metadata": {
    "scrolled": true
   },
   "outputs": [
    {
     "data": {
      "application/vnd.jupyter.widget-view+json": {
       "model_id": "",
       "version_major": 2,
       "version_minor": 0
      },
      "text/plain": [
       "FloatProgress(value=0.0, bar_style='info', description='Progress:', layout=Layout(height='25px', width='50%'),…"
      ]
     },
     "metadata": {},
     "output_type": "display_data"
    }
   ],
   "source": [
    "daily_window = Window.partitionBy('day').orderBy(functions.desc('count'))"
   ]
  },
  {
   "cell_type": "code",
   "execution_count": 26,
   "metadata": {},
   "outputs": [
    {
     "data": {
      "application/vnd.jupyter.widget-view+json": {
       "model_id": "",
       "version_major": 2,
       "version_minor": 0
      },
      "text/plain": [
       "FloatProgress(value=0.0, bar_style='info', description='Progress:', layout=Layout(height='25px', width='50%'),…"
      ]
     },
     "metadata": {},
     "output_type": "display_data"
    },
    {
     "name": "stdout",
     "output_type": "stream",
     "text": [
      "+---+----------+----+-----+\n",
      "|day|   hashtag|week|count|\n",
      "+---+----------+----+-----+\n",
      "|204|mtvhottest|  29|66372|\n",
      "|205|mtvhottest|  29|63495|\n",
      "|207|mtvhottest|  30|60768|\n",
      "|208|mtvhottest|  30|59065|\n",
      "|199|mtvhottest|  28|57956|\n",
      "+---+----------+----+-----+\n",
      "only showing top 5 rows"
     ]
    }
   ],
   "source": [
    "day_counts.show(5)"
   ]
  },
  {
   "cell_type": "markdown",
   "metadata": {},
   "source": [
    "The above window function says that we should window the data on the `day` column and order it by count. \n",
    "\n",
    "Now we need to define what we want to compute on the windowed data. We will start by just calculating the daily ranking of hashtags, so we can use the helpful built-in `functions.rank()` and sort:"
   ]
  },
  {
   "cell_type": "code",
   "execution_count": 27,
   "metadata": {
    "scrolled": true
   },
   "outputs": [
    {
     "data": {
      "application/vnd.jupyter.widget-view+json": {
       "model_id": "",
       "version_major": 2,
       "version_minor": 0
      },
      "text/plain": [
       "FloatProgress(value=0.0, bar_style='info', description='Progress:', layout=Layout(height='25px', width='50%'),…"
      ]
     },
     "metadata": {},
     "output_type": "display_data"
    }
   ],
   "source": [
    "daily_rank = functions.rank().over(daily_window)"
   ]
  },
  {
   "cell_type": "markdown",
   "metadata": {},
   "source": [
    "### II.e: TODO (3 points / 50)\n",
    "Now compute the top five hashtags for each day in our data:"
   ]
  },
  {
   "cell_type": "code",
   "execution_count": 28,
   "metadata": {},
   "outputs": [
    {
     "data": {
      "application/vnd.jupyter.widget-view+json": {
       "model_id": "",
       "version_major": 2,
       "version_minor": 0
      },
      "text/plain": [
       "FloatProgress(value=0.0, bar_style='info', description='Progress:', layout=Layout(height='25px', width='50%'),…"
      ]
     },
     "metadata": {},
     "output_type": "display_data"
    }
   ],
   "source": [
    "daily_ranked = day_counts.select(\"count\",\"hashtag\",\"day\", daily_rank.alias(\"daily_rank\"))"
   ]
  },
  {
   "cell_type": "code",
   "execution_count": 29,
   "metadata": {},
   "outputs": [
    {
     "data": {
      "application/vnd.jupyter.widget-view+json": {
       "model_id": "",
       "version_major": 2,
       "version_minor": 0
      },
      "text/plain": [
       "FloatProgress(value=0.0, bar_style='info', description='Progress:', layout=Layout(height='25px', width='50%'),…"
      ]
     },
     "metadata": {},
     "output_type": "display_data"
    },
    {
     "name": "stdout",
     "output_type": "stream",
     "text": [
      "+---+--------------------+\n",
      "|day|               TOP 5|\n",
      "+---+--------------------+\n",
      "|148|dolceamoresatotoo...|\n",
      "|137|aldub10thmonthsar...|\n",
      "|133|teenchoice, dolce...|\n",
      "|193|teenchoice, euro2...|\n",
      "|211|mtvhottest, veran...|\n",
      "|126|aldub42ndweeksary...|\n",
      "|183|veranomtv2016, gr...|\n",
      "|210|mtvhottest, demsi...|\n",
      "|159|mtvawardsstar, it...|\n",
      "|192|teenchoice, euro2...|\n",
      "|128|화양연화onstageepilog...|\n",
      "|209|mtvhottest, savem...|\n",
      "|122|aldubkiligsasweet...|\n",
      "|190|dallas, veranomtv...|\n",
      "|140|aldub44thweeksary...|\n",
      "|177|veranomtv2016, 1d...|\n",
      "|132|teenchoice, dolce...|\n",
      "|152|aldubhomeatlast, ...|\n",
      "|185|veranomtv2016, eu...|\n",
      "|146|aldubsoclose, dol...|\n",
      "+---+--------------------+\n",
      "only showing top 20 rows"
     ]
    }
   ],
   "source": [
    "daily_ranked.filter(functions.col('daily_rank') <= 5).groupBy(\"day\")\\\n",
    "            .agg(functions.concat_ws(\", \", functions.collect_list(daily_ranked.hashtag)).alias(\"TOP 5\")).show()"
   ]
  },
  {
   "cell_type": "markdown",
   "metadata": {},
   "source": [
    "## II.f: TODO - Compute the top five trending tweets per week (20 points / 50)\n",
    "\n",
    "Use window functions (or other techniques!) to produce lists of top few trending tweets for each week. What's a \"trending\" tweet? Something that seems to be suddenly growing very rapidly in popularity. You should identify \"brexit\" in week 25 and other events like the death of The Artist Formerly Known as Prince, the Met gala, Euro 2016, the terrorist attacks in Nice, France etc. Make it as simple or as complicated as you want! The final listing should be clear and concise and the flow of your analysis should be easy to follow. If you make an implementation that is not immediately obvious, make sure you provide comments either in markdown cells or in comments in the code itself. \n"
   ]
  },
  {
   "cell_type": "markdown",
   "metadata": {},
   "source": [
    "**We first need to compute for each week the observed distribution of the hashtags.**"
   ]
  },
  {
   "cell_type": "code",
   "execution_count": 30,
   "metadata": {},
   "outputs": [
    {
     "data": {
      "application/vnd.jupyter.widget-view+json": {
       "model_id": "",
       "version_major": 2,
       "version_minor": 0
      },
      "text/plain": [
       "FloatProgress(value=0.0, bar_style='info', description='Progress:', layout=Layout(height='25px', width='50%'),…"
      ]
     },
     "metadata": {},
     "output_type": "display_data"
    },
    {
     "name": "stdout",
     "output_type": "stream",
     "text": [
      "+--------------------+----+------------+\n",
      "|             hashtag|week|weekly_count|\n",
      "+--------------------+----+------------+\n",
      "|6yearsofonedirection|  29|       10137|\n",
      "|       aldubtrumpets|  23|        6036|\n",
      "|           mtvpopcd9|  23|        4972|\n",
      "|           rajaviyes|  27|        2507|\n",
      "|            monacogp|  21|        3995|\n",
      "+--------------------+----+------------+\n",
      "only showing top 5 rows"
     ]
    }
   ],
   "source": [
    "count_week = day_counts.groupBy(['hashtag', 'week']).agg(functions.sum('count').alias('weekly_count'))\n",
    "count_week.show(5)"
   ]
  },
  {
   "cell_type": "code",
   "execution_count": 31,
   "metadata": {},
   "outputs": [
    {
     "data": {
      "application/vnd.jupyter.widget-view+json": {
       "model_id": "",
       "version_major": 2,
       "version_minor": 0
      },
      "text/plain": [
       "FloatProgress(value=0.0, bar_style='info', description='Progress:', layout=Layout(height='25px', width='50%'),…"
      ]
     },
     "metadata": {},
     "output_type": "display_data"
    },
    {
     "name": "stdout",
     "output_type": "stream",
     "text": [
      "+----+----------+\n",
      "|week|week_total|\n",
      "+----+----------+\n",
      "|  31|    192303|\n",
      "|  28|   3479762|\n",
      "|  26|   3407916|\n",
      "|  27|   3611600|\n",
      "|  22|   1413258|\n",
      "+----+----------+\n",
      "only showing top 5 rows"
     ]
    }
   ],
   "source": [
    "total_week = day_counts.groupBy('week').agg(functions.sum('count').alias('week_total'))\n",
    "total_week.show(5)"
   ]
  },
  {
   "cell_type": "code",
   "execution_count": 32,
   "metadata": {},
   "outputs": [
    {
     "data": {
      "application/vnd.jupyter.widget-view+json": {
       "model_id": "",
       "version_major": 2,
       "version_minor": 0
      },
      "text/plain": [
       "FloatProgress(value=0.0, bar_style='info', description='Progress:', layout=Layout(height='25px', width='50%'),…"
      ]
     },
     "metadata": {},
     "output_type": "display_data"
    },
    {
     "name": "stdout",
     "output_type": "stream",
     "text": [
      "+----+--------------------+------------+----------+\n",
      "|week|             hashtag|weekly_count|week_total|\n",
      "+----+--------------------+------------+----------+\n",
      "|  31|               video|         190|    192303|\n",
      "|  31|christinagrimmied...|         124|    192303|\n",
      "|  31|          applemusic|          12|    192303|\n",
      "|  31|        airbnbexpert|           1|    192303|\n",
      "|  31|                 mic|           1|    192303|\n",
      "+----+--------------------+------------+----------+\n",
      "only showing top 5 rows"
     ]
    }
   ],
   "source": [
    "joined_week = count_week.join(total_week, on='week', how='left_outer')\n",
    "joined_week.show(5)"
   ]
  },
  {
   "cell_type": "markdown",
   "metadata": {},
   "source": [
    "**We now have the weekly appearance of each hashtag, but we need to normalize it with the total count for that week to make everything homogeneous.**"
   ]
  },
  {
   "cell_type": "code",
   "execution_count": 33,
   "metadata": {},
   "outputs": [
    {
     "data": {
      "application/vnd.jupyter.widget-view+json": {
       "model_id": "",
       "version_major": 2,
       "version_minor": 0
      },
      "text/plain": [
       "FloatProgress(value=0.0, bar_style='info', description='Progress:', layout=Layout(height='25px', width='50%'),…"
      ]
     },
     "metadata": {},
     "output_type": "display_data"
    },
    {
     "name": "stdout",
     "output_type": "stream",
     "text": [
      "+--------------------+----+--------------------+\n",
      "|             hashtag|week|    normalized_count|\n",
      "+--------------------+----+--------------------+\n",
      "|               video|  31|  9.8802410778823E-4|\n",
      "|christinagrimmied...|  31|6.448157335038975E-4|\n",
      "|          applemusic|  31|6.240152259715137E-5|\n",
      "|        airbnbexpert|  31|5.200126883095947...|\n",
      "|                 mic|  31|5.200126883095947...|\n",
      "+--------------------+----+--------------------+\n",
      "only showing top 5 rows"
     ]
    }
   ],
   "source": [
    "norm_weekly_count = joined_week.select(\"hashtag\",\"week\",(joined_week.weekly_count/joined_week.week_total).alias('normalized_count'))\n",
    "norm_weekly_count.show(5)"
   ]
  },
  {
   "cell_type": "code",
   "execution_count": 34,
   "metadata": {},
   "outputs": [
    {
     "data": {
      "application/vnd.jupyter.widget-view+json": {
       "model_id": "",
       "version_major": 2,
       "version_minor": 0
      },
      "text/plain": [
       "FloatProgress(value=0.0, bar_style='info', description='Progress:', layout=Layout(height='25px', width='50%'),…"
      ]
     },
     "metadata": {},
     "output_type": "display_data"
    },
    {
     "name": "stdout",
     "output_type": "stream",
     "text": [
      "+----+---------+---------------------+\n",
      "|week|sum(week)|sum(normalized_count)|\n",
      "+----+---------+---------------------+\n",
      "|  31|  1156083|    1.000000000000125|\n",
      "|  28| 10609704|   0.9999999999989013|\n",
      "|  26|  9923992|   1.0000000000012494|\n",
      "|  27| 10127214|   1.0000000000055527|\n",
      "|  22|  4804910|    1.000000000002735|\n",
      "+----+---------+---------------------+\n",
      "only showing top 5 rows"
     ]
    }
   ],
   "source": [
    "norm_weekly_count.groupby('week').sum().show(5)"
   ]
  },
  {
   "cell_type": "markdown",
   "metadata": {},
   "source": [
    "**For each week we have the observed multinomial distribution of the hashtags. Now we need to compute the prior distribution, that is for each hashtag we will have an expected probability computed by taking the average of the weekly probabilities corresponding to this hashtag during the previous weeks.**"
   ]
  },
  {
   "cell_type": "code",
   "execution_count": 35,
   "metadata": {},
   "outputs": [
    {
     "data": {
      "application/vnd.jupyter.widget-view+json": {
       "model_id": "",
       "version_major": 2,
       "version_minor": 0
      },
      "text/plain": [
       "FloatProgress(value=0.0, bar_style='info', description='Progress:', layout=Layout(height='25px', width='50%'),…"
      ]
     },
     "metadata": {},
     "output_type": "display_data"
    }
   ],
   "source": [
    "# For each hashtag we order its weekly count by order of appearance and select the previous weeks\n",
    "# We select the last known weeks  \n",
    "window_size = 2  # number of weeks from which we construct the prior\n",
    "hashtag_week_window = Window.partitionBy('hashtag').orderBy('week').rangeBetween(-window_size,-1) "
   ]
  },
  {
   "cell_type": "code",
   "execution_count": 36,
   "metadata": {},
   "outputs": [
    {
     "data": {
      "application/vnd.jupyter.widget-view+json": {
       "model_id": "",
       "version_major": 2,
       "version_minor": 0
      },
      "text/plain": [
       "FloatProgress(value=0.0, bar_style='info', description='Progress:', layout=Layout(height='25px', width='50%'),…"
      ]
     },
     "metadata": {},
     "output_type": "display_data"
    },
    {
     "name": "stdout",
     "output_type": "stream",
     "text": [
      "+------------+----+--------------------+--------------------+\n",
      "|     hashtag|week|    normalized_count|               prior|\n",
      "+------------+----+--------------------+--------------------+\n",
      "|         08n|  27|2.768855908738509...|                null|\n",
      "|100daysoffit|  28|2.873759757132815...|                null|\n",
      "|     100daze|  20|3.203183708351404...|                null|\n",
      "|    100pac12|  18|6.578495096883142E-7|                null|\n",
      "|    100pac12|  19|2.844794822018256...|6.578495096883142E-7|\n",
      "+------------+----+--------------------+--------------------+\n",
      "only showing top 5 rows"
     ]
    }
   ],
   "source": [
    "norm_weekly_count_prior = norm_weekly_count.withColumn('prior', functions.avg('normalized_count').over(hashtag_week_window))\n",
    "norm_weekly_count_prior.show(5)"
   ]
  },
  {
   "cell_type": "markdown",
   "metadata": {},
   "source": [
    "**We have prior that are null because the first week that we enconter a hastag we don't have a prior distribution yet.**"
   ]
  },
  {
   "cell_type": "markdown",
   "metadata": {},
   "source": [
    "**Now that we established a baseline of expected frequencies based on history we would like to compare it with the observed frequencies.**\n",
    "\n",
    "**We assume that hashtags are drawn independently at random from a static distribtuion where each one has a prior likelihhod of being selected (the estimated prior). \n",
    "We then observe samples, the tweets of the current week and we ask ourselves what is the probability that they were drawn form the estimated distrbution ?**\n",
    "\n",
    "**To accomplish this goodness of fit test, we use the chi-squared test. \n",
    "The chi square value is a good estimator of trendiness**"
   ]
  },
  {
   "cell_type": "markdown",
   "metadata": {},
   "source": [
    "**For each hashtag we have O = observed normalized count and  E = expected normalized count**"
   ]
  },
  {
   "cell_type": "markdown",
   "metadata": {},
   "source": [
    "$\\tilde{\\chi}^2=\\frac{(O - E)^2}{E}\\ $ if Observed > Expected \n",
    "\n",
    "$\\tilde{\\chi}^2= 0 $ otherwise "
   ]
  },
  {
   "cell_type": "markdown",
   "metadata": {},
   "source": [
    "**To handle the problem of null prior we add one smoothing.**\n",
    "\n",
    "$\\tilde{\\chi}^2 =\\frac{( (O+1) - (E+1) )^2}{E+1} = \\frac{ (O - E )^2}{E+1}$"
   ]
  },
  {
   "cell_type": "code",
   "execution_count": 37,
   "metadata": {},
   "outputs": [
    {
     "data": {
      "application/vnd.jupyter.widget-view+json": {
       "model_id": "",
       "version_major": 2,
       "version_minor": 0
      },
      "text/plain": [
       "FloatProgress(value=0.0, bar_style='info', description='Progress:', layout=Layout(height='25px', width='50%'),…"
      ]
     },
     "metadata": {},
     "output_type": "display_data"
    },
    {
     "name": "stdout",
     "output_type": "stream",
     "text": [
      "+------------+----+--------------------+--------------------+\n",
      "|     hashtag|week|    normalized_count|               prior|\n",
      "+------------+----+--------------------+--------------------+\n",
      "|         08n|  27|2.768855908738509...|                 0.0|\n",
      "|100daysoffit|  28|2.873759757132815...|                 0.0|\n",
      "|     100daze|  20|3.203183708351405E-5|                 0.0|\n",
      "|    100pac12|  18|6.578495096883142E-5|                 0.0|\n",
      "|    100pac12|  19|2.844794822018256...|6.578495096883142E-5|\n",
      "+------------+----+--------------------+--------------------+\n",
      "only showing top 5 rows"
     ]
    }
   ],
   "source": [
    "norm_weekly_count_prior = norm_weekly_count_prior.withColumn('prior', 100 * norm_weekly_count_prior.prior)\\\n",
    "                            .withColumn('normalized_count', 100 * norm_weekly_count_prior.normalized_count)\n",
    "\n",
    "norm_weekly_count_prior = norm_weekly_count_prior.fillna({'prior': 0})\n",
    "norm_weekly_count_prior.show(5)"
   ]
  },
  {
   "cell_type": "code",
   "execution_count": 38,
   "metadata": {},
   "outputs": [
    {
     "data": {
      "application/vnd.jupyter.widget-view+json": {
       "model_id": "",
       "version_major": 2,
       "version_minor": 0
      },
      "text/plain": [
       "FloatProgress(value=0.0, bar_style='info', description='Progress:', layout=Layout(height='25px', width='50%'),…"
      ]
     },
     "metadata": {},
     "output_type": "display_data"
    },
    {
     "name": "stdout",
     "output_type": "stream",
     "text": [
      "+------------+----+--------------------+--------------------+--------------------+\n",
      "|     hashtag|week|    normalized_count|               prior|           Chi-score|\n",
      "+------------+----+--------------------+--------------------+--------------------+\n",
      "|         08n|  27|2.768855908738509...|                 0.0|7.666563043356158...|\n",
      "|100daysoffit|  28|2.873759757132815...|                 0.0|8.258495141716058...|\n",
      "|     100daze|  20|3.203183708351405E-5|                 0.0|1.026038586944785...|\n",
      "|    100pac12|  18|6.578495096883142E-5|                 0.0|4.327659773971554E-9|\n",
      "|    100pac12|  20| 6.40636741670281E-5|4.711644959450699E-5|2.871948891079468...|\n",
      "+------------+----+--------------------+--------------------+--------------------+\n",
      "only showing top 5 rows"
     ]
    }
   ],
   "source": [
    "chi_score_dt = norm_weekly_count_prior.filter(functions.col('normalized_count') > functions.col('prior'))\\\n",
    "                       .withColumn('Chi-score', ((norm_weekly_count_prior.normalized_count - norm_weekly_count_prior.prior)**2) / (norm_weekly_count_prior.prior+ 1))\n",
    "chi_score_dt.show(5)"
   ]
  },
  {
   "cell_type": "code",
   "execution_count": 39,
   "metadata": {},
   "outputs": [
    {
     "data": {
      "application/vnd.jupyter.widget-view+json": {
       "model_id": "",
       "version_major": 2,
       "version_minor": 0
      },
      "text/plain": [
       "FloatProgress(value=0.0, bar_style='info', description='Progress:', layout=Layout(height='25px', width='50%'),…"
      ]
     },
     "metadata": {},
     "output_type": "display_data"
    },
    {
     "name": "stdout",
     "output_type": "stream",
     "text": [
      "+--------------------+----+------------------+--------------------+-------------------+\n",
      "|             hashtag|week|  normalized_count|               prior|          Chi-score|\n",
      "+--------------------+----+------------------+--------------------+-------------------+\n",
      "|          mtvhottest|  29| 9.336614372437221|  1.2383129191111688|  29.29996332013559|\n",
      "|          teenchoice|  19|3.9963677659712467|  2.3024732839091E-4| 15.965439068213039|\n",
      "|       veranomtv2016|  25|3.4577573053848676|0.012906023296159003|  11.71579601934945|\n",
      "|       mtvawardsstar|  23| 3.096537851324191|3.409369082613786E-5|  9.588008630435665|\n",
      "|          mtvhottest|  28|  2.47183571750022|0.003202005133171...|  6.074701181469566|\n",
      "|          teenchoice|  31|3.3405615097008368|  0.4355134277465429|   5.87894490942817|\n",
      "|        demsinphilly|  30|1.7632592989363527|0.021403839933280554|  2.970480745653935|\n",
      "|dolceamorethegame...|  31| 1.623479612902555| 0.05894551357060884|  2.311513592157272|\n",
      "|            rncincle|  29|1.4697295960914472| 0.01551871624702207|  2.082412908029058|\n",
      "|       altonsterling|  27|1.4212814265145641|                 0.0| 2.0200408933552745|\n",
      "|  pushawardslizquens|  30|1.4276077758018029| 0.03362751276782673| 1.8799625104065416|\n",
      "|   choicemalewebstar|  31|1.1622283583719444| 0.02192405340348619| 1.2723977908133293|\n",
      "|              brexit|  25| 1.358830198475131|  0.1816136508932699| 1.1728358070786478|\n",
      "|       veranomtv2016|  26| 3.515726326587862|  1.7353316643405132| 1.1588375898551553|\n",
      "|        ripchristina|  23| 1.012848234045111|                 0.0|    1.0258615452083|\n",
      "|   aldublolalifeanew|  31|1.0103846533855427|0.019147905682172298| 0.9640899858788207|\n",
      "| aldub1stanniversary|  28|0.9671063710679063|8.306567726215528E-5| 0.9350564020753304|\n",
      "|          mtvhottest|  30| 8.397270234518043|   5.904225044968721| 0.9002131704360131|\n",
      "|    teenchoiceawards|  31|0.8736213163601191|0.003790009740903437| 0.7537497829552875|\n",
      "|          eurovision|  19|0.8889983818807052|0.017776694995841627| 0.7457699035853916|\n",
      "|    blacklivesmatter|  27|0.8777550116291949| 0.01618052628917315| 0.7304908671096547|\n",
      "|             metgala|  18|0.7997476489280836| 0.01850994909763998| 0.5992404337111217|\n",
      "|            euro2016|  23|0.8963116357115886| 0.10632370129434296| 0.5641033775148115|\n",
      "|aldubkiligsasweetday|  17|0.7184602464565444|                 0.0| 0.5161851257383985|\n",
      "|          sharknado4|  31|0.7025371419062625|0.004394395837097593|0.48527082180976877|\n",
      "|         btsisonfire|  17|0.6807547945909815|                 0.0|0.46342709035860946|\n",
      "|          teenchoice|  28| 1.295462160917902|   0.473270199150181| 0.4588429348434435|\n",
      "|                whcd|  17|0.6605309613176341|                 0.0|0.43630115085919785|\n",
      "|choicemusicgroupmale|  19|0.6583993136079053|                 0.0| 0.4334896561593608|\n",
      "|           pokemongo|  28|0.9818487586219978| 0.24997192852015113| 0.4285245790072093|\n",
      "| pushawardskathniels|  30|0.6947811319290701| 0.03141140228511175|0.42665748820784644|\n",
      "|  pushawardslizquens|  31|1.6047591561234094|  0.7474170318699425| 0.4206411546949799|\n",
      "|  aldub11thmonthsary|  24|0.6473472416719753|                 0.0| 0.4190584513003148|\n",
      "|               bbmas|  21|0.7910077208572244|  0.1174897405029378|0.40593345372133605|\n",
      "|              dallas|  27|0.6382766640824011|0.012337861686426959|0.38702433167146216|\n",
      "|           betawards|  26|0.6082309540493369|0.018103655813084055|0.34205773266327943|\n",
      "|     philandocastile|  27|0.5842839738620001|                 0.0|0.34138776211197047|\n",
      "|            kcon16la|  31|0.6094548706988451| 0.02314421970598834|0.33598408987390915|\n",
      "|       piousbhandara|  17|0.5515279277426431|                 0.0| 0.3041830550800942|\n",
      "|               euref|  25|0.6831472378442173| 0.11127372292693938| 0.2942923154904323|\n",
      "+--------------------+----+------------------+--------------------+-------------------+\n",
      "only showing top 40 rows"
     ]
    }
   ],
   "source": [
    "chi_score_dt.orderBy('Chi-score', ascending=False).show(40)"
   ]
  },
  {
   "cell_type": "markdown",
   "metadata": {},
   "source": [
    "**For each week we then take the top 5.**"
   ]
  },
  {
   "cell_type": "code",
   "execution_count": 40,
   "metadata": {},
   "outputs": [
    {
     "data": {
      "application/vnd.jupyter.widget-view+json": {
       "model_id": "",
       "version_major": 2,
       "version_minor": 0
      },
      "text/plain": [
       "FloatProgress(value=0.0, bar_style='info', description='Progress:', layout=Layout(height='25px', width='50%'),…"
      ]
     },
     "metadata": {},
     "output_type": "display_data"
    }
   ],
   "source": [
    "weekly_window = Window.partitionBy('week').orderBy(functions.desc('Chi-score'))\n",
    "weekly_rank = functions.rank().over(weekly_window)"
   ]
  },
  {
   "cell_type": "code",
   "execution_count": 41,
   "metadata": {},
   "outputs": [
    {
     "data": {
      "application/vnd.jupyter.widget-view+json": {
       "model_id": "",
       "version_major": 2,
       "version_minor": 0
      },
      "text/plain": [
       "FloatProgress(value=0.0, bar_style='info', description='Progress:', layout=Layout(height='25px', width='50%'),…"
      ]
     },
     "metadata": {},
     "output_type": "display_data"
    },
    {
     "name": "stdout",
     "output_type": "stream",
     "text": [
      "+------------------+--------------------+----+-----------+\n",
      "|         Chi-score|             hashtag|week|weekly_rank|\n",
      "+------------------+--------------------+----+-----------+\n",
      "|  5.87894490942817|          teenchoice|  31|          1|\n",
      "| 2.311513592157272|dolceamorethegame...|  31|          2|\n",
      "|1.2723977908133293|   choicemalewebstar|  31|          3|\n",
      "|0.9640899858788207|   aldublolalifeanew|  31|          4|\n",
      "|0.7537497829552875|    teenchoiceawards|  31|          5|\n",
      "+------------------+--------------------+----+-----------+\n",
      "only showing top 5 rows"
     ]
    }
   ],
   "source": [
    "weekly_ranked = chi_score_dt.select(\"Chi-score\",\"hashtag\",\"week\", weekly_rank.alias(\"weekly_rank\"))\n",
    "weekly_ranked.show(5)"
   ]
  },
  {
   "cell_type": "code",
   "execution_count": 42,
   "metadata": {},
   "outputs": [
    {
     "data": {
      "application/vnd.jupyter.widget-view+json": {
       "model_id": "",
       "version_major": 2,
       "version_minor": 0
      },
      "text/plain": [
       "FloatProgress(value=0.0, bar_style='info', description='Progress:', layout=Layout(height='25px', width='50%'),…"
      ]
     },
     "metadata": {},
     "output_type": "display_data"
    }
   ],
   "source": [
    "top5_per_week = weekly_ranked.filter(functions.col('weekly_rank') <= 5).groupBy(\"week\")\\\n",
    "            .agg(functions.concat_ws(\", \", functions.collect_list(weekly_ranked.hashtag)).alias(\"TOP5\"))"
   ]
  },
  {
   "cell_type": "code",
   "execution_count": 43,
   "metadata": {},
   "outputs": [
    {
     "data": {
      "application/vnd.jupyter.widget-view+json": {
       "model_id": "",
       "version_major": 2,
       "version_minor": 0
      },
      "text/plain": [
       "FloatProgress(value=0.0, bar_style='info', description='Progress:', layout=Layout(height='25px', width='50%'),…"
      ]
     },
     "metadata": {},
     "output_type": "display_data"
    },
    {
     "name": "stdout",
     "output_type": "stream",
     "text": [
      "+----+--------------------+\n",
      "|week|                TOP5|\n",
      "+----+--------------------+\n",
      "|  31|teenchoice, dolce...|\n",
      "|  28|mtvhottest, aldub...|\n",
      "|  26|veranomtv2016, be...|\n",
      "|  27|altonsterling, bl...|\n",
      "|  22|teenchoice, dolce...|\n",
      "|  20|1dreamboy2today, ...|\n",
      "|  19|teenchoice, eurov...|\n",
      "|  17|aldubkiligsasweet...|\n",
      "|  23|mtvawardsstar, ri...|\n",
      "|  25|veranomtv2016, br...|\n",
      "+----+--------------------+\n",
      "only showing top 10 rows"
     ]
    }
   ],
   "source": [
    "top5_per_week.show(10)"
   ]
  },
  {
   "cell_type": "markdown",
   "metadata": {},
   "source": [
    "**This final top 5 hashtags per week seems to faithfully highlight the trending hashtags per week. We indeed have the brexit event appearing in week 25 and we don't have the problem of having the same event trending on several weeks. Indeed, by computing a prior disitribution and using the chi-score criterion we observe that the hashtags corresponding to tv shows that were occupying the trends for consecutive weeks are only now occupying it for one (or maximum 2) weeks.**"
   ]
  },
  {
   "cell_type": "markdown",
   "metadata": {},
   "source": [
    "\n",
    "\n",
    "## Plotting the timeseries of hashtag counts and using KMeans clustering\n",
    "\n",
    "### II.g: TODO (8 points / 50)\n",
    "\n",
    "The lists we obtained above are nice, but lets actually visualize some data. \n",
    "\n",
    "1. create a matrix that consists of hashtags as rows and daily counts as columns (hint: use `groupBy` and methods of `GroupedData`). \n",
    "2. use the `VectorAssembler` from the Spark ML library to create the feature vector which will consist of daily counts. \n",
    "\n",
    "If you extract any of these vectors you will obtain an array that represents the time series of daily counts - plot this time series for a few interesting hashtags you identified above. \n",
    "\n",
    "__Hint__: `isin` method of DataFrame columns might be useful. "
   ]
  },
  {
   "cell_type": "code",
   "execution_count": 44,
   "metadata": {
    "scrolled": true
   },
   "outputs": [
    {
     "data": {
      "application/vnd.jupyter.widget-view+json": {
       "model_id": "",
       "version_major": 2,
       "version_minor": 0
      },
      "text/plain": [
       "FloatProgress(value=0.0, bar_style='info', description='Progress:', layout=Layout(height='25px', width='50%'),…"
      ]
     },
     "metadata": {},
     "output_type": "display_data"
    },
    {
     "name": "stdout",
     "output_type": "stream",
     "text": [
      "+--------------------+-----+\n",
      "|             hashtag|count|\n",
      "+--------------------+-----+\n",
      "|     aldubseeyousoon|   13|\n",
      "|onedirectionisove...|   13|\n",
      "|    themaineaudition|   12|\n",
      "|   3yearswithoutcory|   12|\n",
      "|              travel|   88|\n",
      "+--------------------+-----+\n",
      "only showing top 5 rows"
     ]
    }
   ],
   "source": [
    "hashtags = day_counts.groupBy('hashtag').count()\n",
    "hashtags.show(5)"
   ]
  },
  {
   "cell_type": "code",
   "execution_count": 45,
   "metadata": {},
   "outputs": [
    {
     "data": {
      "application/vnd.jupyter.widget-view+json": {
       "model_id": "",
       "version_major": 2,
       "version_minor": 0
      },
      "text/plain": [
       "FloatProgress(value=0.0, bar_style='info', description='Progress:', layout=Layout(height='25px', width='50%'),…"
      ]
     },
     "metadata": {},
     "output_type": "display_data"
    },
    {
     "name": "stdout",
     "output_type": "stream",
     "text": [
      "+---------------+---+---+----+----+----+---+---+---+---+---+---+---+---+---+---+---+----+----+---+---+---+---+---+---+----+---+---+---+---+---+---+---+---+---+---+---+---+---+---+---+---+---+---+---+---+----+----+----+----+----+----+----+----+----+----+----+----+----+----+----+----+----+----+----+---+----+----+----+----+----+----+----+----+----+----+----+----+----+----+----+----+----+----+----+----+---+----+---+\n",
      "|        hashtag|122|123| 124| 125| 126|127|128|129|130|131|132|133|134|135|136|137| 138| 139|140|141|142|143|144|145| 146|147|148|149|150|151|152|153|154|159|160|161|162|163|164|165|166|167|168|170|171| 172| 173| 174| 175| 176| 177| 178| 179| 180| 181| 182| 183| 184| 185| 186| 187| 188| 189| 190|191| 192| 193| 194| 195| 196| 197| 198| 199| 200| 201| 202| 203| 204| 205| 206| 207| 208| 209| 210| 211|212| 213|214|\n",
      "+---------------+---+---+----+----+----+---+---+---+---+---+---+---+---+---+---+---+----+----+---+---+---+---+---+---+----+---+---+---+---+---+---+---+---+---+---+---+---+---+---+---+---+---+---+---+---+----+----+----+----+----+----+----+----+----+----+----+----+----+----+----+----+----+----+----+---+----+----+----+----+----+----+----+----+----+----+----+----+----+----+----+----+----+----+----+----+---+----+---+\n",
      "|         travel|390|587|1196|1203|1007|898|823|544|896|727|683|667|703|589|614|935|1026|1083|761|749|806|712|684|647|1183|877|920|748|737|786|684|618|186|307|563|761|716|743|680|707|877|756|633|683|999|1142|1189|1242|1289|1229|1134|1225|1270|1125|1249|1224|1220|1138|1051|1217|1288|1305|1222|1169|994|1066|1265|1282|1274|1074|1070|1176|1146|1235|1272|1168|1184|1259|1215|1093|1243|1184|1240|1216|1089|934|1332|398|\n",
      "|        jewelry| 88|106| 163| 192| 189|169|178|153|151|145|178|150|167|157|155|147| 148| 183|184|177|141|166|162|202| 187|158|127|157|152|145|178|212| 53| 35| 97|159|165|142|154|173|179|187|108|147|156| 150| 612| 418| 495| 781| 567| 416| 529| 626| 730| 779| 998| 814| 787| 939| 765| 906| 897| 823|864| 987| 794| 921| 962| 677| 683| 949| 815| 694| 993| 714| 691|1048| 811| 695| 883| 687| 633| 938| 733|647|1042|193|\n",
      "|thatsprettyneat|  0|  0|   0|   0|   0|  0|  0|  0|  0|  0|  0|  0|  0|  0|  0|  0|   0|   0|  0|  0|  0|  0|  0|  0|   0|  0|  0|  0|  0|  0|  0|  0|  0|  0|  0|  0|  0|  0|  0|  0|  0|  0|  0|  0|  0|   0|   0|   0|   0|   0|   0|   0|   0|   0|   0|   0|   0|   0|   1|   0|   0|   0|   0|   0|  0|   0|   0|   0|   0|   0|   0|   0|   0|   0|   0|   0|   0|   0|   1|   0|   0|   0|   0|   0|   0|  0|   0|  0|\n",
      "|        scammed|  0|  0|   1|   1|   0|  0|  0|  1|  0|  0|  0|  0|  0|  0|  2|  1|   0|   0|  0|  1|  0|  0|  0|  0|   1|  0|  1|  0|  0|  0|  0|  0|  1|  0|  0|  2|  9|  2|  1|  0|  0|  0|  0|  0|  0|   0|   0|   1|   0|   2|   1|   1|   1|   0|   1|   0|   1|   0|   0|   0|   1|   0|   1|   0|  0|   0|   0|   1|   1|   0|   1|   0|   0|   0|   0|   0|   0|   0|   0|   1|   0|   0|   0|   0|   0|  0|   1|  1|\n",
      "|  globetwatters|  1|  0|   1|   0|   3|  2|  7|  1|  2|  1|  2|  1|  4|  2|  1|  0|   9|   1|  4|  3|  0|  1|  0|  1|   0|  3|  2|  1|  1|  3|  1|  0|  0|  0|  0|  0|  6|  0|  0|  1|  0|  1|  0|  1|  0|   0|   1|   0|   0|   0|   1|   0|   0|   1|   0|   0|   0|   1|   0|   0|   0|   0|   1|   0|  1|   1|   0|   0|   0|   2|   2|   1|   1|   0|   2|   1|   2|   2|   2|   1|   0|   0|   1|   0|   0|  0|   0|  0|\n",
      "+---------------+---+---+----+----+----+---+---+---+---+---+---+---+---+---+---+---+----+----+---+---+---+---+---+---+----+---+---+---+---+---+---+---+---+---+---+---+---+---+---+---+---+---+---+---+---+----+----+----+----+----+----+----+----+----+----+----+----+----+----+----+----+----+----+----+---+----+----+----+----+----+----+----+----+----+----+----+----+----+----+----+----+----+----+----+----+---+----+---+\n",
      "only showing top 5 rows"
     ]
    }
   ],
   "source": [
    "# 1. Matrix with hashtags as rows and daily counts as columns\n",
    "matrix = day_counts.groupBy('hashtag').pivot('day').sum(\"count\").fillna(0)\n",
    "matrix.show(5)"
   ]
  },
  {
   "cell_type": "code",
   "execution_count": 46,
   "metadata": {},
   "outputs": [
    {
     "data": {
      "application/vnd.jupyter.widget-view+json": {
       "model_id": "",
       "version_major": 2,
       "version_minor": 0
      },
      "text/plain": [
       "FloatProgress(value=0.0, bar_style='info', description='Progress:', layout=Layout(height='25px', width='50%'),…"
      ]
     },
     "metadata": {},
     "output_type": "display_data"
    }
   ],
   "source": [
    "from pyspark.ml.feature import VectorAssembler\n",
    "\n",
    "# 2. Create the feature vector\n",
    "assembler = VectorAssembler(inputCols = matrix.columns[1:], outputCol = \"features\")\n",
    "\n",
    "output = assembler.transform(matrix)"
   ]
  },
  {
   "cell_type": "code",
   "execution_count": 47,
   "metadata": {},
   "outputs": [
    {
     "data": {
      "application/vnd.jupyter.widget-view+json": {
       "model_id": "",
       "version_major": 2,
       "version_minor": 0
      },
      "text/plain": [
       "FloatProgress(value=0.0, bar_style='info', description='Progress:', layout=Layout(height='25px', width='50%'),…"
      ]
     },
     "metadata": {},
     "output_type": "display_data"
    },
    {
     "name": "stdout",
     "output_type": "stream",
     "text": [
      "+--------------------+\n",
      "|            features|\n",
      "+--------------------+\n",
      "|[390.0,587.0,1196...|\n",
      "|[88.0,106.0,163.0...|\n",
      "|(88,[58,78],[1.0,...|\n",
      "|(88,[2,3,7,14,15,...|\n",
      "|(88,[0,2,4,5,6,7,...|\n",
      "|(88,[37,68],[1.0,...|\n",
      "|(88,[20,21],[1.0,...|\n",
      "|      (88,[6],[1.0])|\n",
      "|     (88,[73],[1.0])|\n",
      "|(88,[46,60],[1.0,...|\n",
      "|     (88,[61],[1.0])|\n",
      "|     (88,[41],[1.0])|\n",
      "|(88,[21,51,81],[1...|\n",
      "|(88,[0,2,3,4,6,7,...|\n",
      "|(88,[2,7,10,11,12...|\n",
      "|(88,[0,1,2,3,9,11...|\n",
      "|(88,[45,49,51,74,...|\n",
      "|(88,[7,80],[1.0,1...|\n",
      "|(88,[2,4,5,8,10,1...|\n",
      "|(88,[19,63,66,71]...|\n",
      "+--------------------+\n",
      "only showing top 20 rows"
     ]
    }
   ],
   "source": [
    "output.select('features').show()"
   ]
  },
  {
   "cell_type": "markdown",
   "metadata": {},
   "source": [
    "**We will try to take different types of events to make the analysis more diverse. The following lists consists for instance in tv shows, a sport event or the brexit. We also only take 6 events to make the results more clear.**"
   ]
  },
  {
   "cell_type": "code",
   "execution_count": 48,
   "metadata": {},
   "outputs": [
    {
     "data": {
      "application/vnd.jupyter.widget-view+json": {
       "model_id": "",
       "version_major": 2,
       "version_minor": 0
      },
      "text/plain": [
       "FloatProgress(value=0.0, bar_style='info', description='Progress:', layout=Layout(height='25px', width='50%'),…"
      ]
     },
     "metadata": {},
     "output_type": "display_data"
    }
   ],
   "source": [
    "hashtag_list = [\"brexit\",\"mtvhottest\",\"veranomtv2016\",\"euro2016\",\"altonsterling\",\"metgala\"]"
   ]
  },
  {
   "cell_type": "code",
   "execution_count": 49,
   "metadata": {},
   "outputs": [
    {
     "data": {
      "application/vnd.jupyter.widget-view+json": {
       "model_id": "",
       "version_major": 2,
       "version_minor": 0
      },
      "text/plain": [
       "FloatProgress(value=0.0, bar_style='info', description='Progress:', layout=Layout(height='25px', width='50%'),…"
      ]
     },
     "metadata": {},
     "output_type": "display_data"
    }
   ],
   "source": [
    "from pyspark.sql.types import *\n",
    "vector_udf = functions.udf(lambda vector: vector.toArray().tolist(), ArrayType(DoubleType()))"
   ]
  },
  {
   "cell_type": "code",
   "execution_count": 50,
   "metadata": {},
   "outputs": [
    {
     "data": {
      "application/vnd.jupyter.widget-view+json": {
       "model_id": "",
       "version_major": 2,
       "version_minor": 0
      },
      "text/plain": [
       "FloatProgress(value=0.0, bar_style='info', description='Progress:', layout=Layout(height='25px', width='50%'),…"
      ]
     },
     "metadata": {},
     "output_type": "display_data"
    },
    {
     "name": "stdout",
     "output_type": "stream",
     "text": [
      "+-------------+--------------------+\n",
      "|      hashtag|            features|\n",
      "+-------------+--------------------+\n",
      "|     euro2016|[14.0, 20.0, 26.0...|\n",
      "|      metgala|[54.0, 377.0, 210...|\n",
      "|veranomtv2016|[0.0, 0.0, 0.0, 0...|\n",
      "|   mtvhottest|[3.0, 3.0, 8.0, 1...|\n",
      "|altonsterling|[0.0, 0.0, 0.0, 0...|\n",
      "|       brexit|[171.0, 107.0, 18...|\n",
      "+-------------+--------------------+"
     ]
    }
   ],
   "source": [
    "vector = output.filter(output.hashtag.isin(hashtag_list)).select(\"hashtag\",vector_udf(\"features\").alias('features'))\n",
    "vector.show()"
   ]
  },
  {
   "cell_type": "code",
   "execution_count": 51,
   "metadata": {},
   "outputs": [
    {
     "data": {
      "application/vnd.jupyter.widget-view+json": {
       "model_id": "",
       "version_major": 2,
       "version_minor": 0
      },
      "text/plain": [
       "FloatProgress(value=0.0, bar_style='info', description='Progress:', layout=Layout(height='25px', width='50%'),…"
      ]
     },
     "metadata": {},
     "output_type": "display_data"
    }
   ],
   "source": [
    "import datetime\n",
    "\n",
    "x_label = []\n",
    "for day in matrix.columns[1:]:\n",
    "    x_label.append(datetime.datetime(2016, 1, 1) + datetime.timedelta(int(day) - 1))"
   ]
  },
  {
   "cell_type": "code",
   "execution_count": 52,
   "metadata": {},
   "outputs": [
    {
     "data": {
      "application/vnd.jupyter.widget-view+json": {
       "model_id": "",
       "version_major": 2,
       "version_minor": 0
      },
      "text/plain": [
       "FloatProgress(value=0.0, bar_style='info', description='Progress:', layout=Layout(height='25px', width='50%'),…"
      ]
     },
     "metadata": {},
     "output_type": "display_data"
    },
    {
     "data": {
      "application/vnd.jupyter.widget-view+json": {
       "model_id": "",
       "version_major": 2,
       "version_minor": 0
      },
      "text/plain": [
       "FloatProgress(value=0.0, bar_style='info', description='Progress:', layout=Layout(height='25px', width='50%'),…"
      ]
     },
     "metadata": {},
     "output_type": "display_data"
    }
   ],
   "source": [
    "%%spark -o vector"
   ]
  },
  {
   "cell_type": "code",
   "execution_count": 53,
   "metadata": {},
   "outputs": [
    {
     "data": {
      "image/png": "[encoded data removed]",
      "text/plain": [
       "<Figure size 720x432 with 1 Axes>"
      ]
     },
     "metadata": {},
     "output_type": "display_data"
    }
   ],
   "source": [
    "%%local\n",
    "\n",
    "import pandas as pd \n",
    "for i in range(len(vector)):\n",
    "    plt.plot(vector['features'][i],label = vector['hashtag'][i])\n",
    "\n",
    "x_label = pd.date_range(start=\"2016-05-01\",end=\"2016-08-01\").map(lambda x: x.strftime('%Y-%m-%d'))\n",
    "plt.xticks(range(len(x_label))[::7], x_label[::7], rotation=40,)\n",
    "\n",
    "plt.legend(loc=\"best\")\n",
    "plt.title(\"Timeserie of hashtag count\")\n",
    "plt.xlabel('Time')\n",
    "plt.ylabel('Daily count')\n",
    "plt.show()"
   ]
  },
  {
   "cell_type": "markdown",
   "metadata": {},
   "source": [
    "**We can clearly see that we have two types of events. Some of them happen during one specific day like the shooting of Alton Sterling or the Met Gala, which creates a sudden peak of hashtags for a relatively short period of time. On the other hand, other events happen during a few weeks like the Euro 2016 or the TV shows which makes the corresponding hashtags stay popular for a longer period of time.**\n",
    "\n",
    "**We can also see that the number of hashtags for MTV Hottest is clearly larger than the other events we selected. This is due to the fact that viewers have to use the hashtags to vote, which directly increases the popularity of the hashtag.**"
   ]
  },
  {
   "cell_type": "markdown",
   "metadata": {},
   "source": [
    "### II.h: TODO - Use KMeans to cluster hashtags based on the daily count timeseries (12 points / 50)\n",
    "\n",
    "Use the DataFrame you created above to cluster the hashtag timeseries. Train the model and calculate the cluster membership for all hashtags. \n",
    "\n",
    "Show the cluster that includes \"brexit\" - does it make sense?\n",
    "\n",
    "Again, be creative and see if you can get the clustering to give you meaningful hashtag groupings. Make sure you document your process and code and make your final notebook easy to understand even if the result is not optimal or complete. \n",
    "\n",
    "__Hint:__ Additional data cleaning or filtering might be necessary to get useful results from the model. "
   ]
  },
  {
   "cell_type": "code",
   "execution_count": 54,
   "metadata": {},
   "outputs": [
    {
     "data": {
      "application/vnd.jupyter.widget-view+json": {
       "model_id": "",
       "version_major": 2,
       "version_minor": 0
      },
      "text/plain": [
       "FloatProgress(value=0.0, bar_style='info', description='Progress:', layout=Layout(height='25px', width='50%'),…"
      ]
     },
     "metadata": {},
     "output_type": "display_data"
    },
    {
     "name": "stdout",
     "output_type": "stream",
     "text": [
      "2421020"
     ]
    }
   ],
   "source": [
    "matrix.count()"
   ]
  },
  {
   "cell_type": "code",
   "execution_count": 55,
   "metadata": {},
   "outputs": [
    {
     "data": {
      "application/vnd.jupyter.widget-view+json": {
       "model_id": "",
       "version_major": 2,
       "version_minor": 0
      },
      "text/plain": [
       "FloatProgress(value=0.0, bar_style='info', description='Progress:', layout=Layout(height='25px', width='50%'),…"
      ]
     },
     "metadata": {},
     "output_type": "display_data"
    },
    {
     "name": "stdout",
     "output_type": "stream",
     "text": [
      "+---+----------+----+-----+\n",
      "|day|   hashtag|week|count|\n",
      "+---+----------+----+-----+\n",
      "|204|mtvhottest|  29|66372|\n",
      "|205|mtvhottest|  29|63495|\n",
      "|207|mtvhottest|  30|60768|\n",
      "|208|mtvhottest|  30|59065|\n",
      "|199|mtvhottest|  28|57956|\n",
      "+---+----------+----+-----+\n",
      "only showing top 5 rows"
     ]
    }
   ],
   "source": [
    "day_counts.show(5)"
   ]
  },
  {
   "cell_type": "code",
   "execution_count": 56,
   "metadata": {},
   "outputs": [
    {
     "data": {
      "application/vnd.jupyter.widget-view+json": {
       "model_id": "",
       "version_major": 2,
       "version_minor": 0
      },
      "text/plain": [
       "FloatProgress(value=0.0, bar_style='info', description='Progress:', layout=Layout(height='25px', width='50%'),…"
      ]
     },
     "metadata": {},
     "output_type": "display_data"
    }
   ],
   "source": [
    "distribution = day_counts.select('count')"
   ]
  },
  {
   "cell_type": "code",
   "execution_count": 57,
   "metadata": {},
   "outputs": [
    {
     "data": {
      "application/vnd.jupyter.widget-view+json": {
       "model_id": "",
       "version_major": 2,
       "version_minor": 0
      },
      "text/plain": [
       "FloatProgress(value=0.0, bar_style='info', description='Progress:', layout=Layout(height='25px', width='50%'),…"
      ]
     },
     "metadata": {},
     "output_type": "display_data"
    },
    {
     "data": {
      "application/vnd.jupyter.widget-view+json": {
       "model_id": "",
       "version_major": 2,
       "version_minor": 0
      },
      "text/plain": [
       "FloatProgress(value=0.0, bar_style='info', description='Progress:', layout=Layout(height='25px', width='50%'),…"
      ]
     },
     "metadata": {},
     "output_type": "display_data"
    }
   ],
   "source": [
    "%%spark -o distribution"
   ]
  },
  {
   "cell_type": "markdown",
   "metadata": {},
   "source": [
    "**We want to remove the outliers so we compute the distribution.**"
   ]
  },
  {
   "cell_type": "code",
   "execution_count": 58,
   "metadata": {},
   "outputs": [
    {
     "data": {
      "image/png": "[encoded data removed]",
      "text/plain": [
       "<Figure size 720x432 with 1 Axes>"
      ]
     },
     "metadata": {},
     "output_type": "display_data"
    },
    {
     "data": {
      "application/vnd.jupyter.widget-view+json": {
       "model_id": "27689ba96e1240bcb0c0bec6e5545f92",
       "version_major": 2,
       "version_minor": 0
      },
      "text/plain": [
       "VBox(children=(HBox(children=(HTML(value='Type:'), Button(description='Table', layout=Layout(width='70px'), st…"
      ]
     },
     "metadata": {},
     "output_type": "display_data"
    },
    {
     "data": {
      "application/vnd.jupyter.widget-view+json": {
       "model_id": "467807bfdc0549e98bafa75955482d1e",
       "version_major": 2,
       "version_minor": 0
      },
      "text/plain": [
       "Output()"
      ]
     },
     "metadata": {},
     "output_type": "display_data"
    }
   ],
   "source": [
    "%%local\n",
    "\n",
    "import matplotlib.pyplot as plt\n",
    "\n",
    "plt.hist(distribution['count'],bins=100)\n",
    "plt.show()\n",
    "distribution.quantile([0.05, 0.5,0.75,0.8,0.9,0.95])"
   ]
  },
  {
   "cell_type": "code",
   "execution_count": 59,
   "metadata": {},
   "outputs": [
    {
     "data": {
      "application/vnd.jupyter.widget-view+json": {
       "model_id": "",
       "version_major": 2,
       "version_minor": 0
      },
      "text/plain": [
       "FloatProgress(value=0.0, bar_style='info', description='Progress:', layout=Layout(height='25px', width='50%'),…"
      ]
     },
     "metadata": {},
     "output_type": "display_data"
    },
    {
     "name": "stdout",
     "output_type": "stream",
     "text": [
      "5090"
     ]
    }
   ],
   "source": [
    "min_max_threshold = 150 # ensures that it has some peak and it's not just a noise\n",
    "\n",
    "top_count = day_counts.groupby(\"hashtag\").agg(functions.max(\"count\").alias(\"max_count\"))\n",
    "\n",
    "# Number of hashtags we week for analysis\n",
    "big_hashtags = top_count.filter(top_count.max_count > min_max_threshold).select(\"hashtag\")\n",
    "big_hashtags.count()"
   ]
  },
  {
   "cell_type": "code",
   "execution_count": 60,
   "metadata": {},
   "outputs": [
    {
     "data": {
      "application/vnd.jupyter.widget-view+json": {
       "model_id": "",
       "version_major": 2,
       "version_minor": 0
      },
      "text/plain": [
       "FloatProgress(value=0.0, bar_style='info', description='Progress:', layout=Layout(height='25px', width='50%'),…"
      ]
     },
     "metadata": {},
     "output_type": "display_data"
    },
    {
     "name": "stdout",
     "output_type": "stream",
     "text": [
      "+-------------------+---+---+---+---+---+---+---+---+---+---+---+---+---+---+---+---+---+---+---+---+---+---+----+---+---+---+---+---+---+---+---+---+---+---+---+---+---+---+---+---+---+---+---+---+---+---+---+---+---+---+---+---+---+---+---+---+---+---+---+---+---+---+---+---+---+---+---+---+----+---+---+---+---+---+---+---+---+---+---+---+---+---+---+---+---+---+---+---+\n",
      "|            hashtag|122|123|124|125|126|127|128|129|130|131|132|133|134|135|136|137|138|139|140|141|142|143| 144|145|146|147|148|149|150|151|152|153|154|159|160|161|162|163|164|165|166|167|168|170|171|172|173|174|175|176|177|178|179|180|181|182|183|184|185|186|187|188|189|190|191|192|193|194| 195|196|197|198|199|200|201|202|203|204|205|206|207|208|209|210|211|212|213|214|\n",
      "+-------------------+---+---+---+---+---+---+---+---+---+---+---+---+---+---+---+---+---+---+---+---+---+---+----+---+---+---+---+---+---+---+---+---+---+---+---+---+---+---+---+---+---+---+---+---+---+---+---+---+---+---+---+---+---+---+---+---+---+---+---+---+---+---+---+---+---+---+---+---+----+---+---+---+---+---+---+---+---+---+---+---+---+---+---+---+---+---+---+---+\n",
      "|2yearstoyuvabrigade|  0|  0|  0|  0|  0|  0|  0|  0|  0|  0|  0|  0|  0|  0|  0|  0|  0|  0|  0|  0|  0|  0|   0|  0|  0|  0|  0|  0|  0|  0|  0|  0|  0|  0|250|  0|  0|  0|  0|  0|  0|  0|  0|  0|  0|  0|  0|  0|  0|  0|  0|  0|  0|  0|  0|  0|  0|  0|  0|  0|  0|  0|  0|  0|  0|  0|  0|  0|   0|  0|  0|  0|  0|  0|  0|  0|  0|  0|  0|  0|  0|  1|  0|  0|  0|  0|  0|  0|\n",
      "|  3yearswithoutcory|  0|  0|  0|  0|  0|  0|  0|  0|  0|  0|  0|  0|  0|  0|  0|  0|  0|  0|  0|  0|  0|  0|   0|  0|  0|  0|  0|  0|  0|  0|  0|  0|  0|  0|  0|  0|  0|  0|  0|  0|  0|  0|  0|  0|  0|  0|  0|  0|  0|  0|  0|  0|  0|  0|  0|  0|  0|  0|  0|  0|  0|  0|  0|  0|  0|  0|  1|  4|1387|358| 26| 11|  7|  4|  7|  1|  0|  0|  0|  0|  1|  1|  0|  0|  0|  0|  0|  0|\n",
      "|    aldubseeyousoon|  0|  0|  0|  0|  0|  0|  0|  0|  0|  0|  0|  0|  0|  0|  0|  0|  0|  0|  0|  0|  0|874|4913| 84|  5|  4|  0|  2|  1|  0|  1|  1|  0|  0|  1|  0|  0|  1|  0|  0|  0|  0|  0|  0|  0|  0|  1|  0|  0|  0|  0|  0|  1|  0|  0|  0|  0|  0|  0|  0|  0|  0|  0|  0|  0|  0|  0|  0|   0|  0|  0|  0|  0|  0|  0|  0|  0|  0|  0|  0|  0|  0|  0|  0|  0|  0|  0|  0|\n",
      "|              anime| 39| 33| 63| 58| 73| 66| 63| 65| 68| 61| 60| 72| 63| 92| 86| 59| 64| 65| 59| 70| 69| 66|  64| 56| 54| 64| 40| 78| 85|192|196| 74| 24| 16| 43| 92| 80| 87|101|115| 80| 81| 33| 60| 52| 85| 78| 86| 95| 68| 80| 85| 65| 63| 63| 66| 62| 74| 74| 74| 71| 88| 68| 73| 81| 94| 78| 85|  72| 82| 74| 78| 73| 76| 84| 90| 79| 85| 78| 80| 82| 72| 72| 68| 80| 61| 72| 29|\n",
      "|                art|364|289|540|604|564|526|488|516|497|532|548|518|549|505|490|494|550|564|573|533|453|526| 573|512|533|536|344|493|454|484|500|539|141|130|331|472|525|451|485|452|446|526|238|471|548|535|519|553|462|494|480|470|444|524|605|539|544|541|470|480|569|498|521|529|490|470|561|508| 552|552|538|483|520|560|546|497|504|549|512|493|560|557|499|545|532|494|436|190|\n",
      "+-------------------+---+---+---+---+---+---+---+---+---+---+---+---+---+---+---+---+---+---+---+---+---+---+----+---+---+---+---+---+---+---+---+---+---+---+---+---+---+---+---+---+---+---+---+---+---+---+---+---+---+---+---+---+---+---+---+---+---+---+---+---+---+---+---+---+---+---+---+---+----+---+---+---+---+---+---+---+---+---+---+---+---+---+---+---+---+---+---+---+\n",
      "only showing top 5 rows"
     ]
    }
   ],
   "source": [
    "truncated_matrix = matrix.join(big_hashtags, on='hashtag', how='right')\n",
    "truncated_matrix.show(5)"
   ]
  },
  {
   "cell_type": "code",
   "execution_count": 61,
   "metadata": {},
   "outputs": [
    {
     "data": {
      "application/vnd.jupyter.widget-view+json": {
       "model_id": "",
       "version_major": 2,
       "version_minor": 0
      },
      "text/plain": [
       "FloatProgress(value=0.0, bar_style='info', description='Progress:', layout=Layout(height='25px', width='50%'),…"
      ]
     },
     "metadata": {},
     "output_type": "display_data"
    }
   ],
   "source": [
    "from pyspark.ml.pipeline import Pipeline\n",
    "from pyspark.ml.feature import Normalizer\n",
    "from pyspark.ml.feature import PCA \n",
    "\n",
    "# Pipeline\n",
    "assembler = VectorAssembler(inputCols = truncated_matrix.columns[1:], outputCol=\"features\") # feature vector\n",
    "normalizer = Normalizer(inputCol=\"features\", outputCol=\"normFeatures\", p=1.0) # normalize the data \n",
    "pca = PCA(k = 20, inputCol=\"normFeatures\", outputCol=\"pca\") # reduce dimensions with PCA\n",
    "\n",
    "pipeline = Pipeline(stages=[assembler,normalizer,pca])\n",
    "\n",
    "data = pipeline.fit(truncated_matrix).transform(truncated_matrix)"
   ]
  },
  {
   "cell_type": "code",
   "execution_count": 62,
   "metadata": {},
   "outputs": [
    {
     "data": {
      "application/vnd.jupyter.widget-view+json": {
       "model_id": "",
       "version_major": 2,
       "version_minor": 0
      },
      "text/plain": [
       "FloatProgress(value=0.0, bar_style='info', description='Progress:', layout=Layout(height='25px', width='50%'),…"
      ]
     },
     "metadata": {},
     "output_type": "display_data"
    }
   ],
   "source": [
    "from pyspark.ml.clustering import KMeans\n",
    "from pyspark.sql import Row\n",
    "\n",
    "# Find the best number of clusters k\n",
    "def computation_k(data,k_max,step,input_col):\n",
    "    cost = []\n",
    "    \n",
    "    for k in range(2,k_max,step):\n",
    "        kmeans = KMeans()\\\n",
    "                .setK(k)\\\n",
    "                .setSeed(1)\\\n",
    "                .setFeaturesCol(input_col)\\\n",
    "                .setPredictionCol(\"cluster\")\n",
    "        \n",
    "        model = kmeans.fit(data)\n",
    "        cost.append(Row(cost=model.computeCost(data)))\n",
    "        \n",
    "    return spark.createDataFrame(cost)"
   ]
  },
  {
   "cell_type": "code",
   "execution_count": 63,
   "metadata": {},
   "outputs": [
    {
     "data": {
      "application/vnd.jupyter.widget-view+json": {
       "model_id": "",
       "version_major": 2,
       "version_minor": 0
      },
      "text/plain": [
       "FloatProgress(value=0.0, bar_style='info', description='Progress:', layout=Layout(height='25px', width='50%'),…"
      ]
     },
     "metadata": {},
     "output_type": "display_data"
    }
   ],
   "source": [
    "cost_dt = computation_k(data, 100, 10, 'pca')"
   ]
  },
  {
   "cell_type": "code",
   "execution_count": 64,
   "metadata": {},
   "outputs": [
    {
     "data": {
      "application/vnd.jupyter.widget-view+json": {
       "model_id": "",
       "version_major": 2,
       "version_minor": 0
      },
      "text/plain": [
       "FloatProgress(value=0.0, bar_style='info', description='Progress:', layout=Layout(height='25px', width='50%'),…"
      ]
     },
     "metadata": {},
     "output_type": "display_data"
    },
    {
     "data": {
      "application/vnd.jupyter.widget-view+json": {
       "model_id": "",
       "version_major": 2,
       "version_minor": 0
      },
      "text/plain": [
       "FloatProgress(value=0.0, bar_style='info', description='Progress:', layout=Layout(height='25px', width='50%'),…"
      ]
     },
     "metadata": {},
     "output_type": "display_data"
    }
   ],
   "source": [
    "%%spark -o cost_dt"
   ]
  },
  {
   "cell_type": "code",
   "execution_count": 65,
   "metadata": {},
   "outputs": [
    {
     "data": {
      "image/png": "[encoded data removed]",
      "text/plain": [
       "<Figure size 864x432 with 1 Axes>"
      ]
     },
     "metadata": {},
     "output_type": "display_data"
    }
   ],
   "source": [
    "%local\n",
    "\n",
    "from matplotlib.ticker import MaxNLocator\n",
    "\n",
    "fig, ax = plt.subplots(1,1, figsize =(12,6))\n",
    "ax.plot(range(2,100,10),cost_dt, marker='o')\n",
    "ax.set_xlabel('k')\n",
    "ax.set_ylabel('cost')\n",
    "ax.xaxis.set_major_locator(MaxNLocator(integer=True))\n",
    "plt.title('The Elbow Method Graph')\n",
    "plt.show()"
   ]
  },
  {
   "cell_type": "markdown",
   "metadata": {},
   "source": [
    "**We see with this elbow method graph that the best number of clusters is probably between 20 and 40. After trying a few values, we find that k=42 gives interesting results.**"
   ]
  },
  {
   "cell_type": "code",
   "execution_count": 66,
   "metadata": {},
   "outputs": [
    {
     "data": {
      "application/vnd.jupyter.widget-view+json": {
       "model_id": "",
       "version_major": 2,
       "version_minor": 0
      },
      "text/plain": [
       "FloatProgress(value=0.0, bar_style='info', description='Progress:', layout=Layout(height='25px', width='50%'),…"
      ]
     },
     "metadata": {},
     "output_type": "display_data"
    }
   ],
   "source": [
    "from pyspark.ml.clustering import KMeans\n",
    "k = 42\n",
    "\n",
    "kmeans = KMeans()\\\n",
    "            .setK(k)\\\n",
    "            .setSeed(1) \\\n",
    "            .setFeaturesCol(\"pca\")\\\n",
    "            .setPredictionCol(\"cluster\")\n",
    "\n",
    "model = kmeans.fit(data)\n",
    "\n",
    "predictions = model.transform(data)"
   ]
  },
  {
   "cell_type": "code",
   "execution_count": 67,
   "metadata": {},
   "outputs": [
    {
     "data": {
      "application/vnd.jupyter.widget-view+json": {
       "model_id": "",
       "version_major": 2,
       "version_minor": 0
      },
      "text/plain": [
       "FloatProgress(value=0.0, bar_style='info', description='Progress:', layout=Layout(height='25px', width='50%'),…"
      ]
     },
     "metadata": {},
     "output_type": "display_data"
    },
    {
     "name": "stdout",
     "output_type": "stream",
     "text": [
      "+-------+-----+\n",
      "|cluster|count|\n",
      "+-------+-----+\n",
      "|      1| 1096|\n",
      "|     22|  257|\n",
      "|     20|  250|\n",
      "|     39|  182|\n",
      "|     38|  172|\n",
      "|     41|  151|\n",
      "|     32|  144|\n",
      "|      5|  132|\n",
      "|     25|  118|\n",
      "|     31|  117|\n",
      "|     27|  117|\n",
      "|      4|  114|\n",
      "|      9|  111|\n",
      "|     18|  108|\n",
      "|      6|  101|\n",
      "|     10|  101|\n",
      "|      7|   98|\n",
      "|      8|   96|\n",
      "|     35|   94|\n",
      "|      2|   93|\n",
      "+-------+-----+\n",
      "only showing top 20 rows"
     ]
    }
   ],
   "source": [
    "# Number of hashtags per cluster\n",
    "predictions.groupby('cluster').count().orderBy('count',ascending=False).show()"
   ]
  },
  {
   "cell_type": "code",
   "execution_count": 68,
   "metadata": {},
   "outputs": [
    {
     "data": {
      "application/vnd.jupyter.widget-view+json": {
       "model_id": "",
       "version_major": 2,
       "version_minor": 0
      },
      "text/plain": [
       "FloatProgress(value=0.0, bar_style='info', description='Progress:', layout=Layout(height='25px', width='50%'),…"
      ]
     },
     "metadata": {},
     "output_type": "display_data"
    },
    {
     "name": "stdout",
     "output_type": "stream",
     "text": [
      "+-------+-----+\n",
      "|cluster|count|\n",
      "+-------+-----+\n",
      "|      8|   96|\n",
      "+-------+-----+"
     ]
    }
   ],
   "source": [
    "# Cluster in which #brexit appears and the number of hashtags in that cluster\n",
    "brexit_cluster = predictions.filter(predictions.hashtag == 'brexit').select(\"cluster\").collect()[0]['cluster']\n",
    "predictions.groupby('cluster').count().orderBy('count',ascending=False).filter(predictions.cluster == brexit_cluster).show()"
   ]
  },
  {
   "cell_type": "code",
   "execution_count": 69,
   "metadata": {},
   "outputs": [
    {
     "data": {
      "application/vnd.jupyter.widget-view+json": {
       "model_id": "",
       "version_major": 2,
       "version_minor": 0
      },
      "text/plain": [
       "FloatProgress(value=0.0, bar_style='info', description='Progress:', layout=Layout(height='25px', width='50%'),…"
      ]
     },
     "metadata": {},
     "output_type": "display_data"
    },
    {
     "name": "stdout",
     "output_type": "stream",
     "text": [
      "+--------------------+\n",
      "|             hashtag|\n",
      "+--------------------+\n",
      "|        nbadraft2016|\n",
      "|mondaynanamanbuka...|\n",
      "|               leave|\n",
      "|beckywiththebadgr...|\n",
      "|             perfect|\n",
      "|               euref|\n",
      "|      whathavewedone|\n",
      "|     thankyoumcirene|\n",
      "|takeyourdogtoworkday|\n",
      "|         mtvmusicevo|\n",
      "|            nbadraft|\n",
      "|              remain|\n",
      "|dogsatpollingstat...|\n",
      "|                gawa|\n",
      "|          vidcon2016|\n",
      "|       msgproducts4u|\n",
      "|bestbreakthrougha...|\n",
      "|      flyinsingapore|\n",
      "|                 esp|\n",
      "|            cd9video|\n",
      "|  5thhinduadhiveshan|\n",
      "|                 cd9|\n",
      "|             ges2016|\n",
      "|  alduboverloadkilig|\n",
      "|     bigasspoolparty|\n",
      "|                 nir|\n",
      "| failedmodidiplomacy|\n",
      "|              knicks|\n",
      "|          voteremain|\n",
      "|          brexitvote|\n",
      "|       bfysongforyou|\n",
      "|                 isl|\n",
      "|         copaamerica|\n",
      "|         eurefresult|\n",
      "|       bbcreferendum|\n",
      "|                 cro|\n",
      "|             flyinsg|\n",
      "|        saturnawards|\n",
      "|              coybig|\n",
      "|          ifeelalive|\n",
      "|     happykhunnieday|\n",
      "|               messi|\n",
      "|        1dstaywithus|\n",
      "|            blackday|\n",
      "|                 sui|\n",
      "|         brexitornot|\n",
      "|           notmyvote|\n",
      "|                 arg|\n",
      "|           askorange|\n",
      "|           starlight|\n",
      "|      leanintogether|\n",
      "|        1dreamboy2ff|\n",
      "|     democraticsitin|\n",
      "|                 irl|\n",
      "|           smilemore|\n",
      "|           greenleaf|\n",
      "|                 sg2|\n",
      "|              деньги|\n",
      "|bestchampperformance|\n",
      "|            ajboxing|\n",
      "|        eurefresults|\n",
      "|              ivoted|\n",
      "|        ukreferendum|\n",
      "|   babyarieldigitour|\n",
      "|           aimhvideo|\n",
      "|     nationalpinkday|\n",
      "|                 nsg|\n",
      "|adventuresinbabys...|\n",
      "|            nsmq2016|\n",
      "|              brexit|\n",
      "|        chinaexposed|\n",
      "|         ivotedleave|\n",
      "|            iifa2016|\n",
      "|                rosé|\n",
      "|          bernieinny|\n",
      "|    fxcktheneighbors|\n",
      "|              scotus|\n",
      "|      dolceamorehhww|\n",
      "|          brexitfail|\n",
      "|        moreincommon|\n",
      "|  stylishmsgapparels|\n",
      "|    fevermusiclaunch|\n",
      "|             messi29|\n",
      "|                 fos|\n",
      "|       1disdeadparty|\n",
      "|  spiritualmastermsg|\n",
      "|            got7insg|\n",
      "|     joscanelatrendy|\n",
      "|      ruinavideogame|\n",
      "|takeawayvipprotocols|\n",
      "|              vidcon|\n",
      "|        eureferendum|\n",
      "|stormzyforprimemi...|\n",
      "|           mphistory|\n",
      "|         glastonbury|\n",
      "|          referendum|\n",
      "+--------------------+"
     ]
    }
   ],
   "source": [
    "predictions.filter(predictions.cluster == brexit_cluster).select('hashtag').show(100)"
   ]
  },
  {
   "cell_type": "markdown",
   "metadata": {},
   "source": [
    "**These are the final hashtags that are part of the #brexit cluster. Let's first note that we started with over 2 million hashtags, reducing them to approximately 5000 after preprocesing. \n",
    "The preprocessing has been in 3 main steps:**\n",
    "* **Filtering : By keeping only the hashtags that have a maximum daily count of at least 150.**\n",
    "* **Normalization : We normalized that feature vector to have a p1 norm of 1 such that each one models a distribution.**\n",
    "* **PCA : We reduced the vector dimensionality in such a way that the variance of the data in the low-dimensional    representation is maximized.**\n",
    "\n",
    "**Let's now take a look at the hashtags in this cluster. These are the hashtags that are directly directed to the brexit (in the order found in the previous dataframe): leave, euref, remain, voteremain, brexitvote, eurefresult, bbcreferendum, brexitornot, notmyvote, eurefresults, ivoted, ukreferendum, brexit, ivotedleave, brexitfail, eureferendum, stormzyforprimeminister, referendum.**\n",
    "\n",
    "**We thus have almost 19% of the hashtags in the cluster that are related to the brexit which seems to be a pretty good result. We still have many other different hashtags that could correspond to an event happening at the same time like the Glastonbury festival or the American football cup with a few different Messi hashtags. Some other hashtags seem more general and could be used for many contexts which may have led to their appearance (rosé, irl, smilemore...). All these hashtags that are not related to brexit could maybe be removed with another tuning of the parameters but finding the best set of parameters could take a lot of time. Another way to improve the results could be by trying other methods than K-means.**"
   ]
  },
  {
   "cell_type": "code",
   "execution_count": null,
   "metadata": {},
   "outputs": [],
   "source": []
  }
 ],
 "metadata": {
  "kernelspec": {
   "display_name": "PySpark",
   "language": "",
   "name": "pysparkkernel"
  },
  "language_info": {
   "codemirror_mode": {
    "name": "python",
    "version": 3
   },
   "mimetype": "text/x-python",
   "name": "pyspark",
   "pygments_lexer": "python3"
  }
 },
 "nbformat": 4,
 "nbformat_minor": 4
}
